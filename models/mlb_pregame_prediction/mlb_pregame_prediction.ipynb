{
 "metadata": {
  "language_info": {
   "codemirror_mode": {
    "name": "ipython",
    "version": 3
   },
   "file_extension": ".py",
   "mimetype": "text/x-python",
   "name": "python",
   "nbconvert_exporter": "python",
   "pygments_lexer": "ipython3",
   "version": "3.7.7-final"
  },
  "orig_nbformat": 2,
  "kernelspec": {
   "name": "python3",
   "display_name": "Python 3.7.7 64-bit ('base': conda)",
   "metadata": {
    "interpreter": {
     "hash": "c795aebd7ac18c150a626b1239630d4a359de6700ed411c36eca50a9cfe8623c"
    }
   }
  }
 },
 "nbformat": 4,
 "nbformat_minor": 2,
 "cells": [
  {
   "cell_type": "code",
   "execution_count": 1,
   "metadata": {},
   "outputs": [],
   "source": [
    "import pandas as pd\n",
    "import numpy as np\n",
    "import pickle"
   ]
  },
  {
   "source": [
    "**Section 1: Data Cleaning**\n",
    "\n",
    "Like with any model development process, we will begin by sifting through our dataset and extracting only the required features."
   ],
   "cell_type": "markdown",
   "metadata": {}
  },
  {
   "cell_type": "code",
   "execution_count": 5,
   "metadata": {},
   "outputs": [],
   "source": [
    "elo_df = pd.read_csv(\"./mlb_elo.csv\")"
   ]
  },
  {
   "cell_type": "code",
   "execution_count": 7,
   "metadata": {},
   "outputs": [
    {
     "output_type": "execute_result",
     "data": {
      "text/plain": [
       "           date  season  neutral playoff team1 team2     elo1_pre  \\\n",
       "2430 2020-10-27    2020        1       w   LAD   TBD  1607.757915   \n",
       "2431 2020-10-25    2020        1       w   TBD   LAD  1566.449752   \n",
       "2432 2020-10-24    2020        1       w   TBD   LAD  1563.862158   \n",
       "2433 2020-10-23    2020        1       w   TBD   LAD  1567.099442   \n",
       "2434 2020-10-21    2020        1       w   LAD   TBD  1608.352409   \n",
       "\n",
       "         elo2_pre  elo_prob1  elo_prob2  ...  pitcher1_rgs  pitcher2_rgs  \\\n",
       "2430  1564.177984   0.582851   0.417149  ...     54.055790     54.534448   \n",
       "2431  1605.486147   0.425652   0.574348  ...     52.966933     57.214954   \n",
       "2432  1608.073741   0.415971   0.584029  ...     52.636552     50.974099   \n",
       "2433  1604.836456   0.428091   0.571909  ...     57.971157     55.937980   \n",
       "2434  1563.583490   0.585068   0.414932  ...     54.975487     54.421564   \n",
       "\n",
       "      pitcher1_adj  pitcher2_adj rating_prob1 rating_prob2  rating1_post  \\\n",
       "2430      7.995742      6.040024     0.594547     0.405453   1612.374351   \n",
       "2431     -1.826734     23.114096     0.368716     0.631284   1562.804875   \n",
       "2432     -3.959517     -6.204884     0.411161     0.588839   1564.204361   \n",
       "2433     20.546588     18.098422     0.420376     0.579624   1562.243577   \n",
       "2434     13.013222      4.009710     0.611092     0.388908   1608.914363   \n",
       "\n",
       "      rating2_post  score1  score2  \n",
       "2430   1561.153482     3.0     1.0  \n",
       "2431   1610.722958     2.0     4.0  \n",
       "2432   1609.323472     8.0     7.0  \n",
       "2433   1611.284256     2.0     6.0  \n",
       "2434   1564.613470     4.0     6.0  \n",
       "\n",
       "[5 rows x 26 columns]"
      ],
      "text/html": "<div>\n<style scoped>\n    .dataframe tbody tr th:only-of-type {\n        vertical-align: middle;\n    }\n\n    .dataframe tbody tr th {\n        vertical-align: top;\n    }\n\n    .dataframe thead th {\n        text-align: right;\n    }\n</style>\n<table border=\"1\" class=\"dataframe\">\n  <thead>\n    <tr style=\"text-align: right;\">\n      <th></th>\n      <th>date</th>\n      <th>season</th>\n      <th>neutral</th>\n      <th>playoff</th>\n      <th>team1</th>\n      <th>team2</th>\n      <th>elo1_pre</th>\n      <th>elo2_pre</th>\n      <th>elo_prob1</th>\n      <th>elo_prob2</th>\n      <th>...</th>\n      <th>pitcher1_rgs</th>\n      <th>pitcher2_rgs</th>\n      <th>pitcher1_adj</th>\n      <th>pitcher2_adj</th>\n      <th>rating_prob1</th>\n      <th>rating_prob2</th>\n      <th>rating1_post</th>\n      <th>rating2_post</th>\n      <th>score1</th>\n      <th>score2</th>\n    </tr>\n  </thead>\n  <tbody>\n    <tr>\n      <th>2430</th>\n      <td>2020-10-27</td>\n      <td>2020</td>\n      <td>1</td>\n      <td>w</td>\n      <td>LAD</td>\n      <td>TBD</td>\n      <td>1607.757915</td>\n      <td>1564.177984</td>\n      <td>0.582851</td>\n      <td>0.417149</td>\n      <td>...</td>\n      <td>54.055790</td>\n      <td>54.534448</td>\n      <td>7.995742</td>\n      <td>6.040024</td>\n      <td>0.594547</td>\n      <td>0.405453</td>\n      <td>1612.374351</td>\n      <td>1561.153482</td>\n      <td>3.0</td>\n      <td>1.0</td>\n    </tr>\n    <tr>\n      <th>2431</th>\n      <td>2020-10-25</td>\n      <td>2020</td>\n      <td>1</td>\n      <td>w</td>\n      <td>TBD</td>\n      <td>LAD</td>\n      <td>1566.449752</td>\n      <td>1605.486147</td>\n      <td>0.425652</td>\n      <td>0.574348</td>\n      <td>...</td>\n      <td>52.966933</td>\n      <td>57.214954</td>\n      <td>-1.826734</td>\n      <td>23.114096</td>\n      <td>0.368716</td>\n      <td>0.631284</td>\n      <td>1562.804875</td>\n      <td>1610.722958</td>\n      <td>2.0</td>\n      <td>4.0</td>\n    </tr>\n    <tr>\n      <th>2432</th>\n      <td>2020-10-24</td>\n      <td>2020</td>\n      <td>1</td>\n      <td>w</td>\n      <td>TBD</td>\n      <td>LAD</td>\n      <td>1563.862158</td>\n      <td>1608.073741</td>\n      <td>0.415971</td>\n      <td>0.584029</td>\n      <td>...</td>\n      <td>52.636552</td>\n      <td>50.974099</td>\n      <td>-3.959517</td>\n      <td>-6.204884</td>\n      <td>0.411161</td>\n      <td>0.588839</td>\n      <td>1564.204361</td>\n      <td>1609.323472</td>\n      <td>8.0</td>\n      <td>7.0</td>\n    </tr>\n    <tr>\n      <th>2433</th>\n      <td>2020-10-23</td>\n      <td>2020</td>\n      <td>1</td>\n      <td>w</td>\n      <td>TBD</td>\n      <td>LAD</td>\n      <td>1567.099442</td>\n      <td>1604.836456</td>\n      <td>0.428091</td>\n      <td>0.571909</td>\n      <td>...</td>\n      <td>57.971157</td>\n      <td>55.937980</td>\n      <td>20.546588</td>\n      <td>18.098422</td>\n      <td>0.420376</td>\n      <td>0.579624</td>\n      <td>1562.243577</td>\n      <td>1611.284256</td>\n      <td>2.0</td>\n      <td>6.0</td>\n    </tr>\n    <tr>\n      <th>2434</th>\n      <td>2020-10-21</td>\n      <td>2020</td>\n      <td>1</td>\n      <td>w</td>\n      <td>LAD</td>\n      <td>TBD</td>\n      <td>1608.352409</td>\n      <td>1563.583490</td>\n      <td>0.585068</td>\n      <td>0.414932</td>\n      <td>...</td>\n      <td>54.975487</td>\n      <td>54.421564</td>\n      <td>13.013222</td>\n      <td>4.009710</td>\n      <td>0.611092</td>\n      <td>0.388908</td>\n      <td>1608.914363</td>\n      <td>1564.613470</td>\n      <td>4.0</td>\n      <td>6.0</td>\n    </tr>\n  </tbody>\n</table>\n<p>5 rows × 26 columns</p>\n</div>"
     },
     "metadata": {},
     "execution_count": 7
    }
   ],
   "source": [
    "elo_df = elo_df.loc[elo_df['season'] >= 2000]\n",
    "elo_df = elo_df.loc[elo_df['season'] <= 2020]\n",
    "# elo_df = elo_df[~elo_df['pitcher1'].str.contains(r'[0-9]')]\n",
    "# elo_df = elo_df[~elo_df['pitcher2'].str.contains(r'[0-9]')]\n",
    "\n",
    "elo_df['date']= pd.to_datetime(elo_df['date'])\n",
    "\n",
    "elo_df.head()"
   ]
  },
  {
   "cell_type": "code",
   "execution_count": 8,
   "metadata": {},
   "outputs": [],
   "source": [
    "elo_df.to_csv( \"elo_cleaned.csv\")"
   ]
  },
  {
   "cell_type": "code",
   "execution_count": null,
   "metadata": {},
   "outputs": [],
   "source": [
    "elo1_pre = 1531.8233671069\n",
    "elo2_pre = 1456.6148797361\n",
    "elo1_post = 1529.9288796768\n",
    "elo2_post = 1458.5093671663\n",
    "\n",
    "trans_rating1 = 10**(elo1_pre / 400.0)\n",
    "trans_rating2 = 10**(elo2_pre / 400.0)\n",
    "\n",
    "exp_score1 = elo1_pre / (elo1_pre + elo2_pre)\n",
    "exp_score2 = elo2_pre / (elo1_pre + elo2_pre)\n",
    "\n",
    "win_loss1 = 0\n",
    "win_loss2 = 1\n",
    "\n",
    "# calculate k\n",
    "k1 = (elo1_post - elo1_pre) / (win_loss1 - exp_score1)\n",
    "k2 = (elo2_post - elo2_pre) / (win_loss2 - exp_score2)\n",
    "\n",
    "print(\"K1: \" + str(k1))\n",
    "print(\"K2: \" + str(k2))\n",
    "\n",
    "# 4.64\n",
    "# 4.60\n",
    "# 5.10\n",
    "\n"
   ]
  },
  {
   "cell_type": "code",
   "execution_count": null,
   "metadata": {},
   "outputs": [],
   "source": [
    "def elo_k(point_diff, elo_diff):\n",
    "    k = 32\n",
    "\n",
    "    if point_diff>0:\n",
    "        multiplier=(point_diff)**(0.5)/(10+0.01*(elo_diff))\n",
    "    else:\n",
    "        multiplier=(-point_diff)**(0.5)/(10+0.01*(-elo_diff))\n",
    "    return k*multiplier\n",
    "\n",
    "print(elo_k(-1, elo1_pre - elo2_pre))"
   ]
  },
  {
   "cell_type": "code",
   "execution_count": 2,
   "metadata": {},
   "outputs": [
    {
     "output_type": "execute_result",
     "data": {
      "text/plain": [
       "   home_win  home_score  away_score        date  lookback_days home_team  \\\n",
       "0         0         1.0         9.0  2019-04-10             10       CHW   \n",
       "1         0         1.0        15.0  2019-04-10             10       PHI   \n",
       "2         1         7.0         2.0  2019-04-10             10       STL   \n",
       "3         0         1.0         3.0  2019-04-10             10        SF   \n",
       "4         1         9.0         6.0  2019-04-10             10       NYM   \n",
       "\n",
       "  away_team  home_pct  away_pct  home_streak  ...  awaypen_bb  awaypen_k  \\\n",
       "0        TB  0.300000  0.750000     0.375000  ...    2.679389   9.687023   \n",
       "1       WSN  0.700000  0.500000     0.625000  ...    5.934066   9.494505   \n",
       "2       LAD  0.545455  0.666667     0.625000  ...    3.469274   7.843575   \n",
       "3        SD  0.333333  0.583333     0.333333  ...    3.258621  10.474138   \n",
       "4       MIN  0.600000  0.666667     0.500000  ...    5.400000   5.737500   \n",
       "\n",
       "  awaypen_at_bats  awaypen_doub  awaypen_trip  awaypen_hr  awaypen_era  \\\n",
       "0       32.977099      0.824427      0.000000    0.412214     1.442748   \n",
       "1       38.274725      2.373626      0.000000    1.780220     8.604396   \n",
       "2       34.541899      1.810056      0.603352    1.357542     4.675978   \n",
       "3       34.448276      2.793103      0.000000    0.931034     3.724138   \n",
       "4       33.075000      1.350000      0.000000    1.012500     3.375000   \n",
       "\n",
       "   awaypen_ba  awaypen_slg  awaypen_obp  \n",
       "0    0.200000        0.262        0.260  \n",
       "1    0.317829        0.519        0.409  \n",
       "2    0.244541        0.450        0.313  \n",
       "3    0.243243        0.405        0.309  \n",
       "4    0.234694        0.367        0.342  \n",
       "\n",
       "[5 rows x 137 columns]"
      ],
      "text/html": "<div>\n<style scoped>\n    .dataframe tbody tr th:only-of-type {\n        vertical-align: middle;\n    }\n\n    .dataframe tbody tr th {\n        vertical-align: top;\n    }\n\n    .dataframe thead th {\n        text-align: right;\n    }\n</style>\n<table border=\"1\" class=\"dataframe\">\n  <thead>\n    <tr style=\"text-align: right;\">\n      <th></th>\n      <th>home_win</th>\n      <th>home_score</th>\n      <th>away_score</th>\n      <th>date</th>\n      <th>lookback_days</th>\n      <th>home_team</th>\n      <th>away_team</th>\n      <th>home_pct</th>\n      <th>away_pct</th>\n      <th>home_streak</th>\n      <th>...</th>\n      <th>awaypen_bb</th>\n      <th>awaypen_k</th>\n      <th>awaypen_at_bats</th>\n      <th>awaypen_doub</th>\n      <th>awaypen_trip</th>\n      <th>awaypen_hr</th>\n      <th>awaypen_era</th>\n      <th>awaypen_ba</th>\n      <th>awaypen_slg</th>\n      <th>awaypen_obp</th>\n    </tr>\n  </thead>\n  <tbody>\n    <tr>\n      <th>0</th>\n      <td>0</td>\n      <td>1.0</td>\n      <td>9.0</td>\n      <td>2019-04-10</td>\n      <td>10</td>\n      <td>CHW</td>\n      <td>TB</td>\n      <td>0.300000</td>\n      <td>0.750000</td>\n      <td>0.375000</td>\n      <td>...</td>\n      <td>2.679389</td>\n      <td>9.687023</td>\n      <td>32.977099</td>\n      <td>0.824427</td>\n      <td>0.000000</td>\n      <td>0.412214</td>\n      <td>1.442748</td>\n      <td>0.200000</td>\n      <td>0.262</td>\n      <td>0.260</td>\n    </tr>\n    <tr>\n      <th>1</th>\n      <td>0</td>\n      <td>1.0</td>\n      <td>15.0</td>\n      <td>2019-04-10</td>\n      <td>10</td>\n      <td>PHI</td>\n      <td>WSN</td>\n      <td>0.700000</td>\n      <td>0.500000</td>\n      <td>0.625000</td>\n      <td>...</td>\n      <td>5.934066</td>\n      <td>9.494505</td>\n      <td>38.274725</td>\n      <td>2.373626</td>\n      <td>0.000000</td>\n      <td>1.780220</td>\n      <td>8.604396</td>\n      <td>0.317829</td>\n      <td>0.519</td>\n      <td>0.409</td>\n    </tr>\n    <tr>\n      <th>2</th>\n      <td>1</td>\n      <td>7.0</td>\n      <td>2.0</td>\n      <td>2019-04-10</td>\n      <td>10</td>\n      <td>STL</td>\n      <td>LAD</td>\n      <td>0.545455</td>\n      <td>0.666667</td>\n      <td>0.625000</td>\n      <td>...</td>\n      <td>3.469274</td>\n      <td>7.843575</td>\n      <td>34.541899</td>\n      <td>1.810056</td>\n      <td>0.603352</td>\n      <td>1.357542</td>\n      <td>4.675978</td>\n      <td>0.244541</td>\n      <td>0.450</td>\n      <td>0.313</td>\n    </tr>\n    <tr>\n      <th>3</th>\n      <td>0</td>\n      <td>1.0</td>\n      <td>3.0</td>\n      <td>2019-04-10</td>\n      <td>10</td>\n      <td>SF</td>\n      <td>SD</td>\n      <td>0.333333</td>\n      <td>0.583333</td>\n      <td>0.333333</td>\n      <td>...</td>\n      <td>3.258621</td>\n      <td>10.474138</td>\n      <td>34.448276</td>\n      <td>2.793103</td>\n      <td>0.000000</td>\n      <td>0.931034</td>\n      <td>3.724138</td>\n      <td>0.243243</td>\n      <td>0.405</td>\n      <td>0.309</td>\n    </tr>\n    <tr>\n      <th>4</th>\n      <td>1</td>\n      <td>9.0</td>\n      <td>6.0</td>\n      <td>2019-04-10</td>\n      <td>10</td>\n      <td>NYM</td>\n      <td>MIN</td>\n      <td>0.600000</td>\n      <td>0.666667</td>\n      <td>0.500000</td>\n      <td>...</td>\n      <td>5.400000</td>\n      <td>5.737500</td>\n      <td>33.075000</td>\n      <td>1.350000</td>\n      <td>0.000000</td>\n      <td>1.012500</td>\n      <td>3.375000</td>\n      <td>0.234694</td>\n      <td>0.367</td>\n      <td>0.342</td>\n    </tr>\n  </tbody>\n</table>\n<p>5 rows × 137 columns</p>\n</div>"
     },
     "metadata": {},
     "execution_count": 2
    }
   ],
   "source": [
    "loaded_something = pickle.load(open('2019_data_june23.pickle', 'rb'))\n",
    "loaded_something.head()"
   ]
  },
  {
   "cell_type": "code",
   "execution_count": 49,
   "metadata": {},
   "outputs": [
    {
     "output_type": "stream",
     "name": "stderr",
     "text": [
      "/Users/adityanaik/anaconda3/lib/python3.7/site-packages/IPython/core/interactiveshell.py:3020: DtypeWarning: Columns (13,15,85,87) have mixed types.Specify dtype option on import or set low_memory=False.\n  interactivity=interactivity, compiler=compiler, result=result)\n"
     ]
    },
    {
     "output_type": "execute_result",
     "data": {
      "text/plain": [
       "        date  game_num day_of_week a_team a_league  a_game_num h_team  \\\n",
       "0 2000-03-29       0.0         Wed    CHN       NL         1.0    NYM   \n",
       "1 2000-03-30       0.0         Thu    NYN       NL         2.0    CHC   \n",
       "2 2000-04-03       0.0         Mon    COL       NL         1.0    ATL   \n",
       "3 2000-04-03       0.0         Mon    MIL       NL         1.0    CIN   \n",
       "4 2000-04-03       0.0         Mon    SFN       NL         1.0    FLA   \n",
       "\n",
       "  h_league  h_game_num  a_runs  ...          152  153       154  \\\n",
       "0       NL         1.0     5.0  ...   Todd Zeile  3.0  ordor001   \n",
       "1       NL         2.0     5.0  ...   Jeff Huson  6.0  giraj001   \n",
       "2       NL         1.0     0.0  ...  Eddie Perez  2.0  weisw001   \n",
       "3       NL         1.0     3.0  ...  Aaron Boone  5.0  tuckm001   \n",
       "4       NL         1.0     4.0  ...  Brant Brown  9.0  redmm001   \n",
       "\n",
       "              155  156       157              158  159  160 161  \n",
       "0     Rey Ordonez  6.0  hampm001     Mike Hampton  1.0  NaN   Y  \n",
       "1     Joe Girardi  2.0  farnk001  Kyle Farnsworth  1.0  NaN   Y  \n",
       "2      Walt Weiss  6.0  maddg002      Greg Maddux  1.0  NaN   Y  \n",
       "3  Michael Tucker  7.0  harnp001    Pete Harnisch  1.0  NaN   Y  \n",
       "4    Mike Redmond  2.0  ferna001   Alex Fernandez  1.0  NaN   Y  \n",
       "\n",
       "[5 rows x 161 columns]"
      ],
      "text/html": "<div>\n<style scoped>\n    .dataframe tbody tr th:only-of-type {\n        vertical-align: middle;\n    }\n\n    .dataframe tbody tr th {\n        vertical-align: top;\n    }\n\n    .dataframe thead th {\n        text-align: right;\n    }\n</style>\n<table border=\"1\" class=\"dataframe\">\n  <thead>\n    <tr style=\"text-align: right;\">\n      <th></th>\n      <th>date</th>\n      <th>game_num</th>\n      <th>day_of_week</th>\n      <th>a_team</th>\n      <th>a_league</th>\n      <th>a_game_num</th>\n      <th>h_team</th>\n      <th>h_league</th>\n      <th>h_game_num</th>\n      <th>a_runs</th>\n      <th>...</th>\n      <th>152</th>\n      <th>153</th>\n      <th>154</th>\n      <th>155</th>\n      <th>156</th>\n      <th>157</th>\n      <th>158</th>\n      <th>159</th>\n      <th>160</th>\n      <th>161</th>\n    </tr>\n  </thead>\n  <tbody>\n    <tr>\n      <th>0</th>\n      <td>2000-03-29</td>\n      <td>0.0</td>\n      <td>Wed</td>\n      <td>CHN</td>\n      <td>NL</td>\n      <td>1.0</td>\n      <td>NYM</td>\n      <td>NL</td>\n      <td>1.0</td>\n      <td>5.0</td>\n      <td>...</td>\n      <td>Todd Zeile</td>\n      <td>3.0</td>\n      <td>ordor001</td>\n      <td>Rey Ordonez</td>\n      <td>6.0</td>\n      <td>hampm001</td>\n      <td>Mike Hampton</td>\n      <td>1.0</td>\n      <td>NaN</td>\n      <td>Y</td>\n    </tr>\n    <tr>\n      <th>1</th>\n      <td>2000-03-30</td>\n      <td>0.0</td>\n      <td>Thu</td>\n      <td>NYN</td>\n      <td>NL</td>\n      <td>2.0</td>\n      <td>CHC</td>\n      <td>NL</td>\n      <td>2.0</td>\n      <td>5.0</td>\n      <td>...</td>\n      <td>Jeff Huson</td>\n      <td>6.0</td>\n      <td>giraj001</td>\n      <td>Joe Girardi</td>\n      <td>2.0</td>\n      <td>farnk001</td>\n      <td>Kyle Farnsworth</td>\n      <td>1.0</td>\n      <td>NaN</td>\n      <td>Y</td>\n    </tr>\n    <tr>\n      <th>2</th>\n      <td>2000-04-03</td>\n      <td>0.0</td>\n      <td>Mon</td>\n      <td>COL</td>\n      <td>NL</td>\n      <td>1.0</td>\n      <td>ATL</td>\n      <td>NL</td>\n      <td>1.0</td>\n      <td>0.0</td>\n      <td>...</td>\n      <td>Eddie Perez</td>\n      <td>2.0</td>\n      <td>weisw001</td>\n      <td>Walt Weiss</td>\n      <td>6.0</td>\n      <td>maddg002</td>\n      <td>Greg Maddux</td>\n      <td>1.0</td>\n      <td>NaN</td>\n      <td>Y</td>\n    </tr>\n    <tr>\n      <th>3</th>\n      <td>2000-04-03</td>\n      <td>0.0</td>\n      <td>Mon</td>\n      <td>MIL</td>\n      <td>NL</td>\n      <td>1.0</td>\n      <td>CIN</td>\n      <td>NL</td>\n      <td>1.0</td>\n      <td>3.0</td>\n      <td>...</td>\n      <td>Aaron Boone</td>\n      <td>5.0</td>\n      <td>tuckm001</td>\n      <td>Michael Tucker</td>\n      <td>7.0</td>\n      <td>harnp001</td>\n      <td>Pete Harnisch</td>\n      <td>1.0</td>\n      <td>NaN</td>\n      <td>Y</td>\n    </tr>\n    <tr>\n      <th>4</th>\n      <td>2000-04-03</td>\n      <td>0.0</td>\n      <td>Mon</td>\n      <td>SFN</td>\n      <td>NL</td>\n      <td>1.0</td>\n      <td>FLA</td>\n      <td>NL</td>\n      <td>1.0</td>\n      <td>4.0</td>\n      <td>...</td>\n      <td>Brant Brown</td>\n      <td>9.0</td>\n      <td>redmm001</td>\n      <td>Mike Redmond</td>\n      <td>2.0</td>\n      <td>ferna001</td>\n      <td>Alex Fernandez</td>\n      <td>1.0</td>\n      <td>NaN</td>\n      <td>Y</td>\n    </tr>\n  </tbody>\n</table>\n<p>5 rows × 161 columns</p>\n</div>"
     },
     "metadata": {},
     "execution_count": 49
    }
   ],
   "source": [
    "game_log_df = pd.read_csv(\"./game_logs_00_20.csv\")\n",
    "game_log_df['date']= pd.to_datetime(game_log_df['date'])\n",
    "game_log_df['h_team'] = game_log_df['h_team'].astype(str)\n",
    "game_log_df['a_team'] = game_log_df['a_team'].astype(str)\n",
    "\n",
    "# Handle alternate team abbreviation\n",
    "game_log_df[\"h_team\"].replace({\"NYN\": \"NYM\", \"CHN\": \"CHC\", \"FLO\": \"FLA\", \"MON\": \"WSN\", \"SLN\": \"STL\", \"KCA\": \"KCR\", \"TBA\": \"TBD\", \"SDN\": \"SDP\", \"NYA\": \"NYY\", \"LAN\": \"LAD\", \"WAS\": \"WSN\", \"MIA\": \"FLA\", \"CHA\": \"CHW\", \"SFN\": \"SFG\", \"nan\": float(\"NaN\")}, inplace=True)\n",
    "\n",
    "game_log_df.dropna(subset=[\"a_team\", \"h_team\"], inplace=True)\n",
    "\n",
    "game_log_df.head()"
   ]
  },
  {
   "cell_type": "code",
   "execution_count": 55,
   "metadata": {},
   "outputs": [
    {
     "output_type": "execute_result",
     "data": {
      "text/plain": [
       "        date  game_num day_of_week a_team a_league  a_game_num h_team  \\\n",
       "0 2000-03-29       0.0         Wed    CHN       NL         1.0    NYM   \n",
       "1 2000-03-30       0.0         Thu    NYN       NL         2.0    CHC   \n",
       "2 2000-04-03       0.0         Mon    COL       NL         1.0    ATL   \n",
       "3 2000-04-03       0.0         Mon    MIL       NL         1.0    CIN   \n",
       "4 2000-04-03       0.0         Mon    SFN       NL         1.0    FLA   \n",
       "\n",
       "  h_league  h_game_num  a_runs  ...  pitcher1_rgs  pitcher2_rgs pitcher1_adj  \\\n",
       "0       NL         1.0     5.0  ...           NaN           NaN          NaN   \n",
       "1       NL         2.0     5.0  ...           NaN           NaN          NaN   \n",
       "2       NL         1.0     0.0  ...        57.248        52.522    -0.189571   \n",
       "3       NL         1.0     3.0  ...        54.857        48.899    -0.324579   \n",
       "4       NL         1.0     4.0  ...           NaN           NaN          NaN   \n",
       "\n",
       "  pitcher2_adj  rating_prob1 rating_prob2 rating1_post  rating2_post  score1  \\\n",
       "0          NaN           NaN          NaN          NaN           NaN     NaN   \n",
       "1          NaN           NaN          NaN          NaN           NaN     NaN   \n",
       "2    -0.015488      0.638840     0.361160     1552.802      1478.758     2.0   \n",
       "3     0.178217      0.611602     0.388398     1534.164      1482.151     3.0   \n",
       "4          NaN           NaN          NaN          NaN           NaN     NaN   \n",
       "\n",
       "  score2  \n",
       "0    NaN  \n",
       "1    NaN  \n",
       "2    0.0  \n",
       "3    3.0  \n",
       "4    NaN  \n",
       "\n",
       "[5 rows x 186 columns]"
      ],
      "text/html": "<div>\n<style scoped>\n    .dataframe tbody tr th:only-of-type {\n        vertical-align: middle;\n    }\n\n    .dataframe tbody tr th {\n        vertical-align: top;\n    }\n\n    .dataframe thead th {\n        text-align: right;\n    }\n</style>\n<table border=\"1\" class=\"dataframe\">\n  <thead>\n    <tr style=\"text-align: right;\">\n      <th></th>\n      <th>date</th>\n      <th>game_num</th>\n      <th>day_of_week</th>\n      <th>a_team</th>\n      <th>a_league</th>\n      <th>a_game_num</th>\n      <th>h_team</th>\n      <th>h_league</th>\n      <th>h_game_num</th>\n      <th>a_runs</th>\n      <th>...</th>\n      <th>pitcher1_rgs</th>\n      <th>pitcher2_rgs</th>\n      <th>pitcher1_adj</th>\n      <th>pitcher2_adj</th>\n      <th>rating_prob1</th>\n      <th>rating_prob2</th>\n      <th>rating1_post</th>\n      <th>rating2_post</th>\n      <th>score1</th>\n      <th>score2</th>\n    </tr>\n  </thead>\n  <tbody>\n    <tr>\n      <th>0</th>\n      <td>2000-03-29</td>\n      <td>0.0</td>\n      <td>Wed</td>\n      <td>CHN</td>\n      <td>NL</td>\n      <td>1.0</td>\n      <td>NYM</td>\n      <td>NL</td>\n      <td>1.0</td>\n      <td>5.0</td>\n      <td>...</td>\n      <td>NaN</td>\n      <td>NaN</td>\n      <td>NaN</td>\n      <td>NaN</td>\n      <td>NaN</td>\n      <td>NaN</td>\n      <td>NaN</td>\n      <td>NaN</td>\n      <td>NaN</td>\n      <td>NaN</td>\n    </tr>\n    <tr>\n      <th>1</th>\n      <td>2000-03-30</td>\n      <td>0.0</td>\n      <td>Thu</td>\n      <td>NYN</td>\n      <td>NL</td>\n      <td>2.0</td>\n      <td>CHC</td>\n      <td>NL</td>\n      <td>2.0</td>\n      <td>5.0</td>\n      <td>...</td>\n      <td>NaN</td>\n      <td>NaN</td>\n      <td>NaN</td>\n      <td>NaN</td>\n      <td>NaN</td>\n      <td>NaN</td>\n      <td>NaN</td>\n      <td>NaN</td>\n      <td>NaN</td>\n      <td>NaN</td>\n    </tr>\n    <tr>\n      <th>2</th>\n      <td>2000-04-03</td>\n      <td>0.0</td>\n      <td>Mon</td>\n      <td>COL</td>\n      <td>NL</td>\n      <td>1.0</td>\n      <td>ATL</td>\n      <td>NL</td>\n      <td>1.0</td>\n      <td>0.0</td>\n      <td>...</td>\n      <td>57.248</td>\n      <td>52.522</td>\n      <td>-0.189571</td>\n      <td>-0.015488</td>\n      <td>0.638840</td>\n      <td>0.361160</td>\n      <td>1552.802</td>\n      <td>1478.758</td>\n      <td>2.0</td>\n      <td>0.0</td>\n    </tr>\n    <tr>\n      <th>3</th>\n      <td>2000-04-03</td>\n      <td>0.0</td>\n      <td>Mon</td>\n      <td>MIL</td>\n      <td>NL</td>\n      <td>1.0</td>\n      <td>CIN</td>\n      <td>NL</td>\n      <td>1.0</td>\n      <td>3.0</td>\n      <td>...</td>\n      <td>54.857</td>\n      <td>48.899</td>\n      <td>-0.324579</td>\n      <td>0.178217</td>\n      <td>0.611602</td>\n      <td>0.388398</td>\n      <td>1534.164</td>\n      <td>1482.151</td>\n      <td>3.0</td>\n      <td>3.0</td>\n    </tr>\n    <tr>\n      <th>4</th>\n      <td>2000-04-03</td>\n      <td>0.0</td>\n      <td>Mon</td>\n      <td>SFN</td>\n      <td>NL</td>\n      <td>1.0</td>\n      <td>FLA</td>\n      <td>NL</td>\n      <td>1.0</td>\n      <td>4.0</td>\n      <td>...</td>\n      <td>NaN</td>\n      <td>NaN</td>\n      <td>NaN</td>\n      <td>NaN</td>\n      <td>NaN</td>\n      <td>NaN</td>\n      <td>NaN</td>\n      <td>NaN</td>\n      <td>NaN</td>\n      <td>NaN</td>\n    </tr>\n  </tbody>\n</table>\n<p>5 rows × 186 columns</p>\n</div>"
     },
     "metadata": {},
     "execution_count": 55
    }
   ],
   "source": [
    "new_df = pd.merge(game_log_df, elo_df,  how='left', left_on=['date','a_team', 'h_team'], right_on = ['date','team2', 'team1'])\n",
    "new_df.dropna(subset=[\"a_team\", \"h_team\"], inplace=True)\n",
    "new_df.head()"
   ]
  },
  {
   "cell_type": "code",
   "execution_count": 51,
   "metadata": {},
   "outputs": [],
   "source": [
    "unique_in_logs = game_log_df['h_team'].unique()"
   ]
  },
  {
   "cell_type": "code",
   "execution_count": 52,
   "metadata": {},
   "outputs": [],
   "source": [
    "unique_in_elo = elo_df['team1'].unique()"
   ]
  },
  {
   "cell_type": "code",
   "execution_count": 53,
   "metadata": {},
   "outputs": [],
   "source": [
    "for x in unique_in_logs:\n",
    "    if x not in unique_in_elo:\n",
    "        print(x)"
   ]
  },
  {
   "cell_type": "code",
   "execution_count": 54,
   "metadata": {},
   "outputs": [],
   "source": [
    "for x in unique_in_elo:\n",
    "    if x not in unique_in_logs:\n",
    "        print(x)"
   ]
  },
  {
   "cell_type": "code",
   "execution_count": null,
   "metadata": {},
   "outputs": [],
   "source": []
  }
 ]
}
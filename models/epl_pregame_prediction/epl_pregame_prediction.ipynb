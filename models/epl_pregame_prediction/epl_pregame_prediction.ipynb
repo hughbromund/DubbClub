{
 "metadata": {
  "language_info": {
   "codemirror_mode": {
    "name": "ipython",
    "version": 3
   },
   "file_extension": ".py",
   "mimetype": "text/x-python",
   "name": "python",
   "nbconvert_exporter": "python",
   "pygments_lexer": "ipython3",
   "version": "3.7.7-final"
  },
  "orig_nbformat": 2,
  "kernelspec": {
   "name": "python377jvsc74a57bd0c795aebd7ac18c150a626b1239630d4a359de6700ed411c36eca50a9cfe8623c",
   "display_name": "Python 3.7.7 64-bit ('base': conda)"
  }
 },
 "nbformat": 4,
 "nbformat_minor": 2,
 "cells": [
  {
   "cell_type": "code",
   "execution_count": 19,
   "metadata": {},
   "outputs": [],
   "source": [
    "import pandas as pd\n",
    "import numpy as np\n",
    "import math\n",
    "from datetime import date\n",
    "from datetime import datetime, timedelta\n",
    "import pytz\n",
    "from tqdm.notebook import tqdm, trange\n",
    "import time\n",
    "\n",
    "# For model formulation\n",
    "import xgboost as xgb\n",
    "from sklearn.metrics import mean_squared_error\n",
    "from sklearn.model_selection import train_test_split\n",
    "import matplotlib.pyplot as plt\n",
    "from sklearn.linear_model import LogisticRegression, SGDClassifier\n",
    "from sklearn.model_selection import GridSearchCV\n",
    "from sklearn.metrics import mean_absolute_error\n",
    "from sklearn.neighbors import KNeighborsClassifier\n",
    "from sklearn.svm import SVC\n",
    "from sklearn.metrics import classification_report, confusion_matrix\n",
    "import pickle\n",
    "from sklearn.model_selection import RandomizedSearchCV"
   ]
  },
  {
   "source": [
    "**Section 1: Data Cleaning**\n",
    "\n",
    "While we may not have to do much data cleaning itself, we do need to decide on the features we will use to predict the outcome of a game (away win, home win, draw)."
   ],
   "cell_type": "markdown",
   "metadata": {}
  },
  {
   "cell_type": "code",
   "execution_count": null,
   "metadata": {},
   "outputs": [],
   "source": [
    "all_data = pd.read_csv(\"./data/epl_06_20_raw.csv\")\n",
    "all_data[\"Date\"] = pd.to_datetime(all_data['Date'])\n",
    "all_data[\"HomeTeam\"] = all_data[\"HomeTeam\"].astype(str)\n",
    "all_data[\"AwayTeam\"] = all_data[\"AwayTeam\"].astype(str)\n",
    "all_data['HT_win_rate_season'] = all_data['HT_win_rate_season'].fillna(0)\n",
    "all_data['AT_win_rate_season'] = all_data['AT_win_rate_season'].fillna(0)\n",
    "\n",
    "# Filter out games that haven't happened\n",
    "epl_susp_date = datetime(2020, 3, 13)\n",
    "\n",
    "all_data = all_data[all_data['Date'] < epl_susp_date]"
   ]
  },
  {
   "cell_type": "code",
   "execution_count": null,
   "metadata": {},
   "outputs": [],
   "source": [
    "# Create season column for ELO purposes\n",
    "epl_start_06_07 = datetime(2006, 8, 19)\n",
    "epl_start_07_08 = datetime(2007, 8, 11)\n",
    "epl_start_08_09 = datetime(2008, 8, 16)\n",
    "epl_start_09_10 = datetime(2009, 8, 15)\n",
    "epl_start_10_11 = datetime(2010, 8, 14)\n",
    "epl_start_11_12 = datetime(2011, 8, 13)\n",
    "epl_start_12_13 = datetime(2012, 8, 18)\n",
    "epl_start_13_14 = datetime(2013, 8, 17)\n",
    "epl_start_14_15 = datetime(2014, 8, 16)\n",
    "epl_start_15_16 = datetime(2015, 8, 8)\n",
    "epl_start_16_17 = datetime(2016, 8, 13)\n",
    "epl_start_17_18 = datetime(2017, 8, 11)\n",
    "epl_start_18_19 = datetime(2018, 8, 11)\n",
    "epl_start_19_20 = datetime(2019, 8, 9)\n",
    "\n",
    "season_data = {\"season\": []}\n",
    "for index, row in all_data.iterrows():\n",
    "    game_date = row[\"Date\"]\n",
    "    if game_date > epl_start_19_20:\n",
    "        season_data[\"season\"].append(\"19_20\")\n",
    "    elif game_date > epl_start_18_19:\n",
    "        season_data[\"season\"].append(\"18_19\")\n",
    "    elif game_date > epl_start_17_18:\n",
    "        season_data[\"season\"].append(\"17_18\")\n",
    "    elif game_date > epl_start_16_17:\n",
    "        season_data[\"season\"].append(\"16_17\")\n",
    "    elif game_date > epl_start_15_16:\n",
    "        season_data[\"season\"].append(\"15_16\")\n",
    "    elif game_date > epl_start_14_15:\n",
    "        season_data[\"season\"].append(\"14_15\")\n",
    "    elif game_date > epl_start_13_14:\n",
    "        season_data[\"season\"].append(\"13_14\")\n",
    "    elif game_date > epl_start_12_13:\n",
    "        season_data[\"season\"].append(\"12_13\")\n",
    "    elif game_date > epl_start_11_12:\n",
    "        season_data[\"season\"].append(\"11_12\")\n",
    "    elif game_date > epl_start_10_11:\n",
    "        season_data[\"season\"].append(\"10_11\")\n",
    "    elif game_date > epl_start_09_10:\n",
    "        season_data[\"season\"].append(\"09_10\")\n",
    "    elif game_date > epl_start_08_09:\n",
    "        season_data[\"season\"].append(\"08_09\")\n",
    "    elif game_date > epl_start_07_08:\n",
    "        season_data[\"season\"].append(\"07_08\")\n",
    "    elif game_date > epl_start_06_07:\n",
    "        season_data[\"season\"].append(\"06_07\")\n",
    "    \n",
    "season_df = pd.DataFrame(season_data)\n",
    "\n",
    "all_data['season'] = season_df['season']"
   ]
  },
  {
   "source": [
    "Instead of using the provided \"OVA\" dating system, we will again use an ELO based system like used in NBA adjusted for goal differential with a modified k value."
   ],
   "cell_type": "markdown",
   "metadata": {}
  },
  {
   "cell_type": "code",
   "execution_count": null,
   "metadata": {},
   "outputs": [],
   "source": [
    "def get_post_elos(elo_h_pre, elo_a_pre, goal_diff):\n",
    "  if goal_diff < 0:\n",
    "    O_h = 0\n",
    "    O_a = 1\n",
    "  elif goal_diff == 0:\n",
    "    O_h = 0.5\n",
    "    O_a = 0.5\n",
    "  else:\n",
    "    O_h = 1\n",
    "    O_a = 0\n",
    "\n",
    "  K = 20\n",
    "  home_ad = 65\n",
    "  dr = elo_h_pre - elo_a_pre + home_ad\n",
    "  E_h = 1.0 / (1 + 10**(-dr / 400.0))\n",
    "  E_a = 1 - E_h\n",
    "\n",
    "  # print(str(E_h) + \" \" + str(E_a))\n",
    "\n",
    "  # print(goal_diff)\n",
    "  G = 1\n",
    "  if abs(goal_diff) > 1:\n",
    "    G = math.log2(1.7 * abs(goal_diff)) * 2 / (2 + 0.001 * dr)\n",
    "  # elif abs(goal_diff) == 2:\n",
    "  #   G = 1.5\n",
    "  # else:\n",
    "  #   G = (11 + abs(goal_diff)) / 8\n",
    "\n",
    "  # if goal_diff < 0:\n",
    "  #   G = -G\n",
    "\n",
    "  elo_h_post = elo_h_pre + K * G * (O_h - E_h)\n",
    "  elo_a_post = elo_a_pre + K * G * (O_a - E_a)\n",
    "\n",
    "  return elo_h_post, elo_a_post\n",
    "\n",
    "def get_prev_elo(team, date, season, elo_df):\n",
    "    prev_games = elo_df[elo_df['date'] <= date]\n",
    "    prev_game = prev_games[(prev_games['h_team'] == team) | (prev_games['a_team'] == team)].sort_values(by='date', ascending=True).tail(1)\n",
    "    if team == prev_game['h_team'].values[0]:\n",
    "      elo_rating = prev_game['h_elo_after'].values[0]\n",
    "    else:\n",
    "      elo_rating = prev_game['a_elo_after'].values[0]\n",
    "\n",
    "    if prev_game['season'].values[0] != season:\n",
    "      return (0.75 * elo_rating) + (0.25 * 1505)\n",
    "    else :\n",
    "      return elo_rating"
   ]
  },
  {
   "cell_type": "code",
   "execution_count": null,
   "metadata": {},
   "outputs": [],
   "source": [
    "elo_df = pd.DataFrame(columns=['date', 'season', 'goal_diff', 'h_team', 'a_team', 'h_elo_before', 'a_elo_before', 'h_elo_after', 'a_elo_after'])\n",
    "\n",
    "p_bar = tqdm(total=len(all_data))\n",
    "for index, row in all_data.iterrows(): \n",
    "\n",
    "    game_date = row['Date']\n",
    "    season = row['season']\n",
    "    h_team, a_team = str(row['HomeTeam']), str(row['AwayTeam'])\n",
    "    goal_diff = row['FTHG'] - row['FTAG']\n",
    "\n",
    "    if (h_team not in elo_df['h_team'].values and h_team not in elo_df['a_team'].values) :\n",
    "        h_team_elo_before = 1500\n",
    "    else :\n",
    "        h_team_elo_before = get_prev_elo(h_team, game_date, season, elo_df)\n",
    "\n",
    "    if (a_team not in elo_df['h_team'].values and a_team not in elo_df['a_team'].values) :\n",
    "        a_team_elo_before = 1500\n",
    "    else :\n",
    "        a_team_elo_before = get_prev_elo(a_team, game_date, season, elo_df)\n",
    "\n",
    "    h_team_elo_after, a_team_elo_after = get_post_elos(h_team_elo_before, a_team_elo_before, goal_diff)\n",
    "\n",
    "    new_row = {'h_team': h_team, 'a_team': a_team, 'h_elo_before': \\\n",
    "        h_team_elo_before, 'a_elo_before': a_team_elo_before, 'h_elo_after' : h_team_elo_after, \\\n",
    "        'a_elo_after': a_team_elo_after, 'date': game_date, 'goal_diff': goal_diff, 'season': season}\n",
    "  \n",
    "    elo_df = elo_df.append(new_row, ignore_index = True)\n",
    "\n",
    "    p_bar.update(1)"
   ]
  },
  {
   "source": [
    "We also must account for the fact that the past 5 game winrate when less than 5 games have been played by a team"
   ],
   "cell_type": "markdown",
   "metadata": {}
  },
  {
   "cell_type": "code",
   "execution_count": null,
   "metadata": {},
   "outputs": [],
   "source": [
    "# Set past 5 winrate to total winrate if less than 5 games\n",
    "past_5_winrate_data = {\n",
    "    'h_win_percent_last_5': [],\n",
    "    'a_win_percent_last_5': [],\n",
    "}\n",
    "\n",
    "p_bar = tqdm(total=len(all_data))\n",
    "for index, row in all_data.iterrows(): \n",
    "\n",
    "    # Home\n",
    "    if row['HT_match_played'] < 5:\n",
    "        past_5_winrate_data['h_win_percent_last_5'].append(row['HT_win_rate_season'])\n",
    "    else:\n",
    "        past_5_winrate_data['h_win_percent_last_5'].append(row['HT_5_win_rate'])\n",
    "\n",
    "    # Away\n",
    "    if row['AT_match_played'] < 5:\n",
    "        past_5_winrate_data['a_win_percent_last_5'].append(row['AT_win_rate_season'])\n",
    "    else:\n",
    "        past_5_winrate_data['a_win_percent_last_5'].append(row['AT_5_win_rate'])\n",
    "\n",
    "    p_bar.update(1)\n",
    "\n",
    "past_5_winrate_df = pd.DataFrame(past_5_winrate_data)"
   ]
  },
  {
   "source": [
    "For the last step in this process, we will create our dataframe that we will use to train/test"
   ],
   "cell_type": "markdown",
   "metadata": {}
  },
  {
   "cell_type": "code",
   "execution_count": null,
   "metadata": {},
   "outputs": [],
   "source": [
    "training_df = pd.DataFrame()\n",
    "training_df['h_elo_before'] = elo_df['h_elo_before']\n",
    "training_df['a_elo_before'] = elo_df['a_elo_before']\n",
    "training_df['result'] = all_data['FTR']\n",
    "training_df['h_match_played'] = all_data['HT_match_played']\n",
    "training_df['h_goal_diff'] = all_data['HT_goal_diff']\n",
    "training_df['h_win_percent'] = all_data['HT_win_rate_season']\n",
    "training_df['h_win_percent_last_5'] = past_5_winrate_df['h_win_percent_last_5']\n",
    "training_df['a_match_played'] = all_data['AT_match_played']\n",
    "training_df['a_goal_diff'] = all_data['AT_goal_diff']\n",
    "training_df['a_win_percent'] = all_data['AT_win_rate_season']\n",
    "training_df['a_win_percent_last_5'] = past_5_winrate_df['a_win_percent_last_5']\n",
    "training_df['goal_diff_diff'] = all_data['HT_goal_diff'] - all_data['AT_goal_diff']\n",
    "\n",
    "training_df.head()"
   ]
  },
  {
   "source": [
    "training_df.to_csv( \"./data/training_df.csv\", index=False)"
   ],
   "cell_type": "code",
   "metadata": {},
   "execution_count": null,
   "outputs": []
  },
  {
   "source": [
    "**Section 2: Training a Model**\n",
    "\n",
    "Like with any ML process, we will proceed by generating a model to predict the outcome of an EPL game (i.e. home win, away win or draw). We will test several models and choose the one that gives us the best accuracy (and lowest error)."
   ],
   "cell_type": "markdown",
   "metadata": {}
  },
  {
   "cell_type": "code",
   "execution_count": 12,
   "metadata": {},
   "outputs": [],
   "source": [
    "training_df = pd.read_csv(\"./data/training_df.csv\", index_col=False)\n",
    "training_df = training_df.loc[:, ~training_df.columns.str.contains('^Unnamed')]"
   ]
  },
  {
   "cell_type": "code",
   "execution_count": 13,
   "metadata": {},
   "outputs": [],
   "source": [
    "# Relabel truth value column\n",
    "training_df['result'] = training_df['result'].replace(['H'], 0)\n",
    "training_df['result'] = training_df['result'].replace(['D'], 1)\n",
    "training_df['result'] = training_df['result'].replace(['A'], 2)\n",
    "training_df['result'] = training_df['result'].astype(int)"
   ]
  },
  {
   "source": [
    "Logistic Regression:"
   ],
   "cell_type": "markdown",
   "metadata": {}
  },
  {
   "cell_type": "code",
   "execution_count": 14,
   "metadata": {},
   "outputs": [
    {
     "output_type": "execute_result",
     "data": {
      "text/plain": [
       "   h_elo_before  a_elo_before  h_match_played  h_goal_diff  h_win_percent  \\\n",
       "0        1500.0        1500.0               0          0.0            0.0   \n",
       "1        1500.0        1500.0               0          0.0            0.0   \n",
       "2        1500.0        1500.0               0          0.0            0.0   \n",
       "3        1500.0        1500.0               0          0.0            0.0   \n",
       "4        1500.0        1500.0               0          0.0            0.0   \n",
       "\n",
       "   h_win_percent_last_5  a_match_played  a_goal_diff  a_win_percent  \\\n",
       "0                   0.0               0          0.0            0.0   \n",
       "1                   0.0               0          0.0            0.0   \n",
       "2                   0.0               0          0.0            0.0   \n",
       "3                   0.0               0          0.0            0.0   \n",
       "4                   0.0               0          0.0            0.0   \n",
       "\n",
       "   a_win_percent_last_5  goal_diff_diff  \n",
       "0                   0.0             0.0  \n",
       "1                   0.0             0.0  \n",
       "2                   0.0             0.0  \n",
       "3                   0.0             0.0  \n",
       "4                   0.0             0.0  "
      ],
      "text/html": "<div>\n<style scoped>\n    .dataframe tbody tr th:only-of-type {\n        vertical-align: middle;\n    }\n\n    .dataframe tbody tr th {\n        vertical-align: top;\n    }\n\n    .dataframe thead th {\n        text-align: right;\n    }\n</style>\n<table border=\"1\" class=\"dataframe\">\n  <thead>\n    <tr style=\"text-align: right;\">\n      <th></th>\n      <th>h_elo_before</th>\n      <th>a_elo_before</th>\n      <th>h_match_played</th>\n      <th>h_goal_diff</th>\n      <th>h_win_percent</th>\n      <th>h_win_percent_last_5</th>\n      <th>a_match_played</th>\n      <th>a_goal_diff</th>\n      <th>a_win_percent</th>\n      <th>a_win_percent_last_5</th>\n      <th>goal_diff_diff</th>\n    </tr>\n  </thead>\n  <tbody>\n    <tr>\n      <th>0</th>\n      <td>1500.0</td>\n      <td>1500.0</td>\n      <td>0</td>\n      <td>0.0</td>\n      <td>0.0</td>\n      <td>0.0</td>\n      <td>0</td>\n      <td>0.0</td>\n      <td>0.0</td>\n      <td>0.0</td>\n      <td>0.0</td>\n    </tr>\n    <tr>\n      <th>1</th>\n      <td>1500.0</td>\n      <td>1500.0</td>\n      <td>0</td>\n      <td>0.0</td>\n      <td>0.0</td>\n      <td>0.0</td>\n      <td>0</td>\n      <td>0.0</td>\n      <td>0.0</td>\n      <td>0.0</td>\n      <td>0.0</td>\n    </tr>\n    <tr>\n      <th>2</th>\n      <td>1500.0</td>\n      <td>1500.0</td>\n      <td>0</td>\n      <td>0.0</td>\n      <td>0.0</td>\n      <td>0.0</td>\n      <td>0</td>\n      <td>0.0</td>\n      <td>0.0</td>\n      <td>0.0</td>\n      <td>0.0</td>\n    </tr>\n    <tr>\n      <th>3</th>\n      <td>1500.0</td>\n      <td>1500.0</td>\n      <td>0</td>\n      <td>0.0</td>\n      <td>0.0</td>\n      <td>0.0</td>\n      <td>0</td>\n      <td>0.0</td>\n      <td>0.0</td>\n      <td>0.0</td>\n      <td>0.0</td>\n    </tr>\n    <tr>\n      <th>4</th>\n      <td>1500.0</td>\n      <td>1500.0</td>\n      <td>0</td>\n      <td>0.0</td>\n      <td>0.0</td>\n      <td>0.0</td>\n      <td>0</td>\n      <td>0.0</td>\n      <td>0.0</td>\n      <td>0.0</td>\n      <td>0.0</td>\n    </tr>\n  </tbody>\n</table>\n</div>"
     },
     "metadata": {},
     "execution_count": 14
    }
   ],
   "source": [
    "y = training_df['result']\n",
    "training_df.drop(columns=['result'], inplace=True)\n",
    "X = training_df\n",
    "X_train, X_test, y_train, y_test = train_test_split(X, y, test_size=0.2, random_state=123)\n",
    "X.head()"
   ]
  },
  {
   "cell_type": "code",
   "execution_count": null,
   "metadata": {},
   "outputs": [],
   "source": [
    "log_clf = LogisticRegression(random_state=23, max_iter=1000)\n",
    "c_space = np.logspace(-5, 8, 15)\n",
    "param_grid = {'C': c_space}\n",
    "\n",
    "log_clf_cv = GridSearchCV(log_clf, param_grid, cv=5)\n",
    "log_clf_cv.fit(X, y)\n",
    "\n",
    "print(\"Tuned Logistic Regression Parameters: {}\".format(log_clf_cv.best_params_))\n",
    "print(\"Best score is {}\".format(log_clf_cv.best_score_))"
   ]
  },
  {
   "cell_type": "code",
   "execution_count": null,
   "metadata": {},
   "outputs": [],
   "source": [
    "mse = mean_squared_error(log_clf_cv.predict(X_test), y_test)\n",
    "mse"
   ]
  },
  {
   "source": [
    "KNN"
   ],
   "cell_type": "markdown",
   "metadata": {}
  },
  {
   "cell_type": "code",
   "execution_count": null,
   "metadata": {
    "tags": [
     "outputPrepend"
    ]
   },
   "outputs": [],
   "source": [
    "leaf_size = [5, 30]\n",
    "n_neighbors = [10, 30, 50, 70]\n",
    "p=[1,2]\n",
    "\n",
    "# Convert to dictionary\n",
    "hyperparameters = dict(leaf_size=leaf_size, n_neighbors=n_neighbors, p=p)\n",
    "\n",
    "# Create new KNN object\n",
    "knn_clf = KNeighborsClassifier()\n",
    "\n",
    "# Use GridSearch\n",
    "knn_clf_cv = GridSearchCV(knn_clf, hyperparameters, cv=10, verbose=2)\n",
    "\n",
    "# Fit the model\n",
    "best_model_knn = knn_clf_cv.fit(X,y)\n",
    "\n",
    "# Print The value of best Hyperparameters\n",
    "print('Best leaf_size:', best_model_knn.best_estimator_.get_params()['leaf_size'])\n",
    "print('Best p:', best_model_knn.best_estimator_.get_params()['p'])\n",
    "print('Best n_neighbors:', best_model_knn.best_estimator_.get_params()['n_neighbors'])"
   ]
  },
  {
   "cell_type": "code",
   "execution_count": null,
   "metadata": {},
   "outputs": [],
   "source": [
    "print(best_model_knn.classes_)\n",
    "knn_probs = best_model_knn.predict_proba(X_test)\n",
    "mse = mean_squared_error(best_model_knn.predict(X_test), y_test)\n",
    "mse"
   ]
  },
  {
   "source": [
    "XGBoost"
   ],
   "cell_type": "markdown",
   "metadata": {}
  },
  {
   "cell_type": "code",
   "execution_count": 21,
   "metadata": {},
   "outputs": [
    {
     "output_type": "error",
     "ename": "NameError",
     "evalue": "name 'target_train' is not defined",
     "traceback": [
      "\u001b[0;31m---------------------------------------------------------------------------\u001b[0m",
      "\u001b[0;31mNameError\u001b[0m                                 Traceback (most recent call last)",
      "\u001b[0;32m<ipython-input-21-21c890e86f1d>\u001b[0m in \u001b[0;36m<module>\u001b[0;34m\u001b[0m\n\u001b[1;32m     15\u001b[0m xgb_rscv = RandomizedSearchCV(xg_clf, param_distributions = parameters, scoring = \"f1_micro\",\n\u001b[1;32m     16\u001b[0m                              cv = 10, verbose = 3, random_state = 40 )\n\u001b[0;32m---> 17\u001b[0;31m \u001b[0mmodel_xgboost\u001b[0m \u001b[0;34m=\u001b[0m \u001b[0mxgb_rscv\u001b[0m\u001b[0;34m.\u001b[0m\u001b[0mfit\u001b[0m\u001b[0;34m(\u001b[0m\u001b[0mX_train\u001b[0m\u001b[0;34m,\u001b[0m \u001b[0mtarget_train\u001b[0m\u001b[0;34m)\u001b[0m\u001b[0;34m\u001b[0m\u001b[0;34m\u001b[0m\u001b[0m\n\u001b[0m\u001b[1;32m     18\u001b[0m \u001b[0;34m\u001b[0m\u001b[0m\n\u001b[1;32m     19\u001b[0m \u001b[0;31m# xg_clf.fit(X_train,y_train)\u001b[0m\u001b[0;34m\u001b[0m\u001b[0;34m\u001b[0m\u001b[0;34m\u001b[0m\u001b[0m\n",
      "\u001b[0;31mNameError\u001b[0m: name 'target_train' is not defined"
     ]
    }
   ],
   "source": [
    "parameters = {\"learning_rate\": [0.1, 0.01, 0.001],\n",
    "               \"gamma\" : [0.01, 0.1, 0.3, 0.5, 1, 1.5, 2],\n",
    "               \"max_depth\": [2, 4, 7, 10],\n",
    "               \"colsample_bytree\": [0.3, 0.6, 0.8, 1.0],\n",
    "               \"subsample\": [0.2, 0.4, 0.5, 0.6, 0.7],\n",
    "               \"reg_alpha\": [0, 0.5, 1],\n",
    "               \"reg_lambda\": [1, 1.5, 2, 3, 4.5],\n",
    "               \"min_child_weight\": [1, 3, 5, 7],\n",
    "               \"n_estimators\": [100, 250, 500, 1000]}\n",
    "\n",
    "# data_dmatrix = xgb.DMatrix(data=X,label=y)\n",
    "xg_clf = xgb.XGBClassifier(objective ='reg:squarederror', colsample_bytree = 0.3, learning_rate = 0.1,\n",
    "                max_depth = 5, alpha = 10, n_estimators = 10)\n",
    "\n",
    "xgb_rscv = RandomizedSearchCV(xg_clf, param_distributions = parameters, scoring = \"f1_micro\",\n",
    "                             cv = 10, verbose = 3, random_state = 40 )\n",
    "model_xgboost = xgb_rscv.fit(X_train, y_train)\n",
    "\n",
    "# xg_clf.fit(X_train,y_train)\n",
    "# params = {\"objective\":\"reg:squarederror\",'colsample_bytree': 0.3,'learning_rate': 0.1,\n",
    "#                 'max_depth': 5, 'alpha': 10}\n",
    "# cv_results = xgb.cv(dtrain=data_dmatrix, params=params, nfold=3,\n",
    "#                     num_boost_round=50,early_stopping_rounds=10,metrics=\"rmse\", as_pandas=True, seed=123)\n",
    "# cv_results.tail()"
   ]
  },
  {
   "cell_type": "code",
   "execution_count": 31,
   "metadata": {},
   "outputs": [
    {
     "output_type": "display_data",
     "data": {
      "text/plain": "<Figure size 432x288 with 1 Axes>",
      "image/svg+xml": "<?xml version=\"1.0\" encoding=\"utf-8\" standalone=\"no\"?>\n<!DOCTYPE svg PUBLIC \"-//W3C//DTD SVG 1.1//EN\"\n  \"http://www.w3.org/Graphics/SVG/1.1/DTD/svg11.dtd\">\n<!-- Created with matplotlib (https://matplotlib.org/) -->\n<svg height=\"277.314375pt\" version=\"1.1\" viewBox=\"0 0 476.426563 277.314375\" width=\"476.426563pt\" xmlns=\"http://www.w3.org/2000/svg\" xmlns:xlink=\"http://www.w3.org/1999/xlink\">\n <defs>\n  <style type=\"text/css\">\n*{stroke-linecap:butt;stroke-linejoin:round;}\n  </style>\n </defs>\n <g id=\"figure_1\">\n  <g id=\"patch_1\">\n   <path d=\"M 0 277.314375 \nL 476.426563 277.314375 \nL 476.426563 0 \nL 0 0 \nz\n\" style=\"fill:none;\"/>\n  </g>\n  <g id=\"axes_1\">\n   <g id=\"patch_2\">\n    <path d=\"M 134.426563 239.758125 \nL 469.226562 239.758125 \nL 469.226562 22.318125 \nL 134.426563 22.318125 \nz\n\" style=\"fill:#ffffff;\"/>\n   </g>\n   <g id=\"patch_3\">\n    <path clip-path=\"url(#p0b0be6cd6d)\" d=\"M 134.426563 223.450125 \nL 186.811358 223.450125 \nL 186.811358 219.826125 \nL 134.426563 219.826125 \nz\n\" style=\"fill:#1f77b4;\"/>\n   </g>\n   <g id=\"patch_4\">\n    <path clip-path=\"url(#p0b0be6cd6d)\" d=\"M 134.426563 205.330125 \nL 189.417302 205.330125 \nL 189.417302 201.706125 \nL 134.426563 201.706125 \nz\n\" style=\"fill:#1f77b4;\"/>\n   </g>\n   <g id=\"patch_5\">\n    <path clip-path=\"url(#p0b0be6cd6d)\" d=\"M 134.426563 187.210125 \nL 257.650491 187.210125 \nL 257.650491 183.586125 \nL 134.426563 183.586125 \nz\n\" style=\"fill:#1f77b4;\"/>\n   </g>\n   <g id=\"patch_6\">\n    <path clip-path=\"url(#p0b0be6cd6d)\" d=\"M 134.426563 169.090125 \nL 275.413457 169.090125 \nL 275.413457 165.466125 \nL 134.426563 165.466125 \nz\n\" style=\"fill:#1f77b4;\"/>\n   </g>\n   <g id=\"patch_7\">\n    <path clip-path=\"url(#p0b0be6cd6d)\" d=\"M 134.426563 150.970125 \nL 278.019402 150.970125 \nL 278.019402 147.346125 \nL 134.426563 147.346125 \nz\n\" style=\"fill:#1f77b4;\"/>\n   </g>\n   <g id=\"patch_8\">\n    <path clip-path=\"url(#p0b0be6cd6d)\" d=\"M 134.426563 132.850125 \nL 278.391679 132.850125 \nL 278.391679 129.226125 \nL 134.426563 129.226125 \nz\n\" style=\"fill:#1f77b4;\"/>\n   </g>\n   <g id=\"patch_9\">\n    <path clip-path=\"url(#p0b0be6cd6d)\" d=\"M 134.426563 114.730125 \nL 310.992572 114.730125 \nL 310.992572 111.106125 \nL 134.426563 111.106125 \nz\n\" style=\"fill:#1f77b4;\"/>\n   </g>\n   <g id=\"patch_10\">\n    <path clip-path=\"url(#p0b0be6cd6d)\" d=\"M 134.426563 96.610125 \nL 321.363166 96.610125 \nL 321.363166 92.986125 \nL 134.426563 92.986125 \nz\n\" style=\"fill:#1f77b4;\"/>\n   </g>\n   <g id=\"patch_11\">\n    <path clip-path=\"url(#p0b0be6cd6d)\" d=\"M 134.426563 78.490125 \nL 338.647489 78.490125 \nL 338.647489 74.866125 \nL 134.426563 74.866125 \nz\n\" style=\"fill:#1f77b4;\"/>\n   </g>\n   <g id=\"patch_12\">\n    <path clip-path=\"url(#p0b0be6cd6d)\" d=\"M 134.426563 60.370125 \nL 413.475313 60.370125 \nL 413.475313 56.746125 \nL 134.426563 56.746125 \nz\n\" style=\"fill:#1f77b4;\"/>\n   </g>\n   <g id=\"patch_13\">\n    <path clip-path=\"url(#p0b0be6cd6d)\" d=\"M 134.426563 42.250125 \nL 438.790199 42.250125 \nL 438.790199 38.626125 \nL 134.426563 38.626125 \nz\n\" style=\"fill:#1f77b4;\"/>\n   </g>\n   <g id=\"matplotlib.axis_1\">\n    <g id=\"xtick_1\">\n     <g id=\"line2d_1\">\n      <path clip-path=\"url(#p0b0be6cd6d)\" d=\"M 134.426563 239.758125 \nL 134.426563 22.318125 \n\" style=\"fill:none;stroke:#b0b0b0;stroke-linecap:square;stroke-width:0.8;\"/>\n     </g>\n     <g id=\"line2d_2\">\n      <defs>\n       <path d=\"M 0 0 \nL 0 3.5 \n\" id=\"m11eeba724f\" style=\"stroke:#000000;stroke-width:0.8;\"/>\n      </defs>\n      <g>\n       <use style=\"stroke:#000000;stroke-width:0.8;\" x=\"134.426563\" xlink:href=\"#m11eeba724f\" y=\"239.758125\"/>\n      </g>\n     </g>\n     <g id=\"text_1\">\n      <!-- 0 -->\n      <defs>\n       <path d=\"M 31.78125 66.40625 \nQ 24.171875 66.40625 20.328125 58.90625 \nQ 16.5 51.421875 16.5 36.375 \nQ 16.5 21.390625 20.328125 13.890625 \nQ 24.171875 6.390625 31.78125 6.390625 \nQ 39.453125 6.390625 43.28125 13.890625 \nQ 47.125 21.390625 47.125 36.375 \nQ 47.125 51.421875 43.28125 58.90625 \nQ 39.453125 66.40625 31.78125 66.40625 \nz\nM 31.78125 74.21875 \nQ 44.046875 74.21875 50.515625 64.515625 \nQ 56.984375 54.828125 56.984375 36.375 \nQ 56.984375 17.96875 50.515625 8.265625 \nQ 44.046875 -1.421875 31.78125 -1.421875 \nQ 19.53125 -1.421875 13.0625 8.265625 \nQ 6.59375 17.96875 6.59375 36.375 \nQ 6.59375 54.828125 13.0625 64.515625 \nQ 19.53125 74.21875 31.78125 74.21875 \nz\n\" id=\"DejaVuSans-48\"/>\n      </defs>\n      <g transform=\"translate(131.245313 254.356562)scale(0.1 -0.1)\">\n       <use xlink:href=\"#DejaVuSans-48\"/>\n      </g>\n     </g>\n    </g>\n    <g id=\"xtick_2\">\n     <g id=\"line2d_3\">\n      <path clip-path=\"url(#p0b0be6cd6d)\" d=\"M 187.609096 239.758125 \nL 187.609096 22.318125 \n\" style=\"fill:none;stroke:#b0b0b0;stroke-linecap:square;stroke-width:0.8;\"/>\n     </g>\n     <g id=\"line2d_4\">\n      <g>\n       <use style=\"stroke:#000000;stroke-width:0.8;\" x=\"187.609096\" xlink:href=\"#m11eeba724f\" y=\"239.758125\"/>\n      </g>\n     </g>\n     <g id=\"text_2\">\n      <!-- 1000 -->\n      <defs>\n       <path d=\"M 12.40625 8.296875 \nL 28.515625 8.296875 \nL 28.515625 63.921875 \nL 10.984375 60.40625 \nL 10.984375 69.390625 \nL 28.421875 72.90625 \nL 38.28125 72.90625 \nL 38.28125 8.296875 \nL 54.390625 8.296875 \nL 54.390625 0 \nL 12.40625 0 \nz\n\" id=\"DejaVuSans-49\"/>\n      </defs>\n      <g transform=\"translate(174.884096 254.356562)scale(0.1 -0.1)\">\n       <use xlink:href=\"#DejaVuSans-49\"/>\n       <use x=\"63.623047\" xlink:href=\"#DejaVuSans-48\"/>\n       <use x=\"127.246094\" xlink:href=\"#DejaVuSans-48\"/>\n       <use x=\"190.869141\" xlink:href=\"#DejaVuSans-48\"/>\n      </g>\n     </g>\n    </g>\n    <g id=\"xtick_3\">\n     <g id=\"line2d_5\">\n      <path clip-path=\"url(#p0b0be6cd6d)\" d=\"M 240.791629 239.758125 \nL 240.791629 22.318125 \n\" style=\"fill:none;stroke:#b0b0b0;stroke-linecap:square;stroke-width:0.8;\"/>\n     </g>\n     <g id=\"line2d_6\">\n      <g>\n       <use style=\"stroke:#000000;stroke-width:0.8;\" x=\"240.791629\" xlink:href=\"#m11eeba724f\" y=\"239.758125\"/>\n      </g>\n     </g>\n     <g id=\"text_3\">\n      <!-- 2000 -->\n      <defs>\n       <path d=\"M 19.1875 8.296875 \nL 53.609375 8.296875 \nL 53.609375 0 \nL 7.328125 0 \nL 7.328125 8.296875 \nQ 12.9375 14.109375 22.625 23.890625 \nQ 32.328125 33.6875 34.8125 36.53125 \nQ 39.546875 41.84375 41.421875 45.53125 \nQ 43.3125 49.21875 43.3125 52.78125 \nQ 43.3125 58.59375 39.234375 62.25 \nQ 35.15625 65.921875 28.609375 65.921875 \nQ 23.96875 65.921875 18.8125 64.3125 \nQ 13.671875 62.703125 7.8125 59.421875 \nL 7.8125 69.390625 \nQ 13.765625 71.78125 18.9375 73 \nQ 24.125 74.21875 28.421875 74.21875 \nQ 39.75 74.21875 46.484375 68.546875 \nQ 53.21875 62.890625 53.21875 53.421875 \nQ 53.21875 48.921875 51.53125 44.890625 \nQ 49.859375 40.875 45.40625 35.40625 \nQ 44.1875 33.984375 37.640625 27.21875 \nQ 31.109375 20.453125 19.1875 8.296875 \nz\n\" id=\"DejaVuSans-50\"/>\n      </defs>\n      <g transform=\"translate(228.066629 254.356562)scale(0.1 -0.1)\">\n       <use xlink:href=\"#DejaVuSans-50\"/>\n       <use x=\"63.623047\" xlink:href=\"#DejaVuSans-48\"/>\n       <use x=\"127.246094\" xlink:href=\"#DejaVuSans-48\"/>\n       <use x=\"190.869141\" xlink:href=\"#DejaVuSans-48\"/>\n      </g>\n     </g>\n    </g>\n    <g id=\"xtick_4\">\n     <g id=\"line2d_7\">\n      <path clip-path=\"url(#p0b0be6cd6d)\" d=\"M 293.974162 239.758125 \nL 293.974162 22.318125 \n\" style=\"fill:none;stroke:#b0b0b0;stroke-linecap:square;stroke-width:0.8;\"/>\n     </g>\n     <g id=\"line2d_8\">\n      <g>\n       <use style=\"stroke:#000000;stroke-width:0.8;\" x=\"293.974162\" xlink:href=\"#m11eeba724f\" y=\"239.758125\"/>\n      </g>\n     </g>\n     <g id=\"text_4\">\n      <!-- 3000 -->\n      <defs>\n       <path d=\"M 40.578125 39.3125 \nQ 47.65625 37.796875 51.625 33 \nQ 55.609375 28.21875 55.609375 21.1875 \nQ 55.609375 10.40625 48.1875 4.484375 \nQ 40.765625 -1.421875 27.09375 -1.421875 \nQ 22.515625 -1.421875 17.65625 -0.515625 \nQ 12.796875 0.390625 7.625 2.203125 \nL 7.625 11.71875 \nQ 11.71875 9.328125 16.59375 8.109375 \nQ 21.484375 6.890625 26.8125 6.890625 \nQ 36.078125 6.890625 40.9375 10.546875 \nQ 45.796875 14.203125 45.796875 21.1875 \nQ 45.796875 27.640625 41.28125 31.265625 \nQ 36.765625 34.90625 28.71875 34.90625 \nL 20.21875 34.90625 \nL 20.21875 43.015625 \nL 29.109375 43.015625 \nQ 36.375 43.015625 40.234375 45.921875 \nQ 44.09375 48.828125 44.09375 54.296875 \nQ 44.09375 59.90625 40.109375 62.90625 \nQ 36.140625 65.921875 28.71875 65.921875 \nQ 24.65625 65.921875 20.015625 65.03125 \nQ 15.375 64.15625 9.8125 62.3125 \nL 9.8125 71.09375 \nQ 15.4375 72.65625 20.34375 73.4375 \nQ 25.25 74.21875 29.59375 74.21875 \nQ 40.828125 74.21875 47.359375 69.109375 \nQ 53.90625 64.015625 53.90625 55.328125 \nQ 53.90625 49.265625 50.4375 45.09375 \nQ 46.96875 40.921875 40.578125 39.3125 \nz\n\" id=\"DejaVuSans-51\"/>\n      </defs>\n      <g transform=\"translate(281.249162 254.356562)scale(0.1 -0.1)\">\n       <use xlink:href=\"#DejaVuSans-51\"/>\n       <use x=\"63.623047\" xlink:href=\"#DejaVuSans-48\"/>\n       <use x=\"127.246094\" xlink:href=\"#DejaVuSans-48\"/>\n       <use x=\"190.869141\" xlink:href=\"#DejaVuSans-48\"/>\n      </g>\n     </g>\n    </g>\n    <g id=\"xtick_5\">\n     <g id=\"line2d_9\">\n      <path clip-path=\"url(#p0b0be6cd6d)\" d=\"M 347.156695 239.758125 \nL 347.156695 22.318125 \n\" style=\"fill:none;stroke:#b0b0b0;stroke-linecap:square;stroke-width:0.8;\"/>\n     </g>\n     <g id=\"line2d_10\">\n      <g>\n       <use style=\"stroke:#000000;stroke-width:0.8;\" x=\"347.156695\" xlink:href=\"#m11eeba724f\" y=\"239.758125\"/>\n      </g>\n     </g>\n     <g id=\"text_5\">\n      <!-- 4000 -->\n      <defs>\n       <path d=\"M 37.796875 64.3125 \nL 12.890625 25.390625 \nL 37.796875 25.390625 \nz\nM 35.203125 72.90625 \nL 47.609375 72.90625 \nL 47.609375 25.390625 \nL 58.015625 25.390625 \nL 58.015625 17.1875 \nL 47.609375 17.1875 \nL 47.609375 0 \nL 37.796875 0 \nL 37.796875 17.1875 \nL 4.890625 17.1875 \nL 4.890625 26.703125 \nz\n\" id=\"DejaVuSans-52\"/>\n      </defs>\n      <g transform=\"translate(334.431695 254.356562)scale(0.1 -0.1)\">\n       <use xlink:href=\"#DejaVuSans-52\"/>\n       <use x=\"63.623047\" xlink:href=\"#DejaVuSans-48\"/>\n       <use x=\"127.246094\" xlink:href=\"#DejaVuSans-48\"/>\n       <use x=\"190.869141\" xlink:href=\"#DejaVuSans-48\"/>\n      </g>\n     </g>\n    </g>\n    <g id=\"xtick_6\">\n     <g id=\"line2d_11\">\n      <path clip-path=\"url(#p0b0be6cd6d)\" d=\"M 400.339228 239.758125 \nL 400.339228 22.318125 \n\" style=\"fill:none;stroke:#b0b0b0;stroke-linecap:square;stroke-width:0.8;\"/>\n     </g>\n     <g id=\"line2d_12\">\n      <g>\n       <use style=\"stroke:#000000;stroke-width:0.8;\" x=\"400.339228\" xlink:href=\"#m11eeba724f\" y=\"239.758125\"/>\n      </g>\n     </g>\n     <g id=\"text_6\">\n      <!-- 5000 -->\n      <defs>\n       <path d=\"M 10.796875 72.90625 \nL 49.515625 72.90625 \nL 49.515625 64.59375 \nL 19.828125 64.59375 \nL 19.828125 46.734375 \nQ 21.96875 47.46875 24.109375 47.828125 \nQ 26.265625 48.1875 28.421875 48.1875 \nQ 40.625 48.1875 47.75 41.5 \nQ 54.890625 34.8125 54.890625 23.390625 \nQ 54.890625 11.625 47.5625 5.09375 \nQ 40.234375 -1.421875 26.90625 -1.421875 \nQ 22.3125 -1.421875 17.546875 -0.640625 \nQ 12.796875 0.140625 7.71875 1.703125 \nL 7.71875 11.625 \nQ 12.109375 9.234375 16.796875 8.0625 \nQ 21.484375 6.890625 26.703125 6.890625 \nQ 35.15625 6.890625 40.078125 11.328125 \nQ 45.015625 15.765625 45.015625 23.390625 \nQ 45.015625 31 40.078125 35.4375 \nQ 35.15625 39.890625 26.703125 39.890625 \nQ 22.75 39.890625 18.8125 39.015625 \nQ 14.890625 38.140625 10.796875 36.28125 \nz\n\" id=\"DejaVuSans-53\"/>\n      </defs>\n      <g transform=\"translate(387.614228 254.356562)scale(0.1 -0.1)\">\n       <use xlink:href=\"#DejaVuSans-53\"/>\n       <use x=\"63.623047\" xlink:href=\"#DejaVuSans-48\"/>\n       <use x=\"127.246094\" xlink:href=\"#DejaVuSans-48\"/>\n       <use x=\"190.869141\" xlink:href=\"#DejaVuSans-48\"/>\n      </g>\n     </g>\n    </g>\n    <g id=\"xtick_7\">\n     <g id=\"line2d_13\">\n      <path clip-path=\"url(#p0b0be6cd6d)\" d=\"M 453.521761 239.758125 \nL 453.521761 22.318125 \n\" style=\"fill:none;stroke:#b0b0b0;stroke-linecap:square;stroke-width:0.8;\"/>\n     </g>\n     <g id=\"line2d_14\">\n      <g>\n       <use style=\"stroke:#000000;stroke-width:0.8;\" x=\"453.521761\" xlink:href=\"#m11eeba724f\" y=\"239.758125\"/>\n      </g>\n     </g>\n     <g id=\"text_7\">\n      <!-- 6000 -->\n      <defs>\n       <path d=\"M 33.015625 40.375 \nQ 26.375 40.375 22.484375 35.828125 \nQ 18.609375 31.296875 18.609375 23.390625 \nQ 18.609375 15.53125 22.484375 10.953125 \nQ 26.375 6.390625 33.015625 6.390625 \nQ 39.65625 6.390625 43.53125 10.953125 \nQ 47.40625 15.53125 47.40625 23.390625 \nQ 47.40625 31.296875 43.53125 35.828125 \nQ 39.65625 40.375 33.015625 40.375 \nz\nM 52.59375 71.296875 \nL 52.59375 62.3125 \nQ 48.875 64.0625 45.09375 64.984375 \nQ 41.3125 65.921875 37.59375 65.921875 \nQ 27.828125 65.921875 22.671875 59.328125 \nQ 17.53125 52.734375 16.796875 39.40625 \nQ 19.671875 43.65625 24.015625 45.921875 \nQ 28.375 48.1875 33.59375 48.1875 \nQ 44.578125 48.1875 50.953125 41.515625 \nQ 57.328125 34.859375 57.328125 23.390625 \nQ 57.328125 12.15625 50.6875 5.359375 \nQ 44.046875 -1.421875 33.015625 -1.421875 \nQ 20.359375 -1.421875 13.671875 8.265625 \nQ 6.984375 17.96875 6.984375 36.375 \nQ 6.984375 53.65625 15.1875 63.9375 \nQ 23.390625 74.21875 37.203125 74.21875 \nQ 40.921875 74.21875 44.703125 73.484375 \nQ 48.484375 72.75 52.59375 71.296875 \nz\n\" id=\"DejaVuSans-54\"/>\n      </defs>\n      <g transform=\"translate(440.796761 254.356562)scale(0.1 -0.1)\">\n       <use xlink:href=\"#DejaVuSans-54\"/>\n       <use x=\"63.623047\" xlink:href=\"#DejaVuSans-48\"/>\n       <use x=\"127.246094\" xlink:href=\"#DejaVuSans-48\"/>\n       <use x=\"190.869141\" xlink:href=\"#DejaVuSans-48\"/>\n      </g>\n     </g>\n    </g>\n    <g id=\"text_8\">\n     <!-- F score -->\n     <defs>\n      <path d=\"M 9.8125 72.90625 \nL 51.703125 72.90625 \nL 51.703125 64.59375 \nL 19.671875 64.59375 \nL 19.671875 43.109375 \nL 48.578125 43.109375 \nL 48.578125 34.8125 \nL 19.671875 34.8125 \nL 19.671875 0 \nL 9.8125 0 \nz\n\" id=\"DejaVuSans-70\"/>\n      <path id=\"DejaVuSans-32\"/>\n      <path d=\"M 44.28125 53.078125 \nL 44.28125 44.578125 \nQ 40.484375 46.53125 36.375 47.5 \nQ 32.28125 48.484375 27.875 48.484375 \nQ 21.1875 48.484375 17.84375 46.4375 \nQ 14.5 44.390625 14.5 40.28125 \nQ 14.5 37.15625 16.890625 35.375 \nQ 19.28125 33.59375 26.515625 31.984375 \nL 29.59375 31.296875 \nQ 39.15625 29.25 43.1875 25.515625 \nQ 47.21875 21.78125 47.21875 15.09375 \nQ 47.21875 7.46875 41.1875 3.015625 \nQ 35.15625 -1.421875 24.609375 -1.421875 \nQ 20.21875 -1.421875 15.453125 -0.5625 \nQ 10.6875 0.296875 5.421875 2 \nL 5.421875 11.28125 \nQ 10.40625 8.6875 15.234375 7.390625 \nQ 20.0625 6.109375 24.8125 6.109375 \nQ 31.15625 6.109375 34.5625 8.28125 \nQ 37.984375 10.453125 37.984375 14.40625 \nQ 37.984375 18.0625 35.515625 20.015625 \nQ 33.0625 21.96875 24.703125 23.78125 \nL 21.578125 24.515625 \nQ 13.234375 26.265625 9.515625 29.90625 \nQ 5.8125 33.546875 5.8125 39.890625 \nQ 5.8125 47.609375 11.28125 51.796875 \nQ 16.75 56 26.8125 56 \nQ 31.78125 56 36.171875 55.265625 \nQ 40.578125 54.546875 44.28125 53.078125 \nz\n\" id=\"DejaVuSans-115\"/>\n      <path d=\"M 48.78125 52.59375 \nL 48.78125 44.1875 \nQ 44.96875 46.296875 41.140625 47.34375 \nQ 37.3125 48.390625 33.40625 48.390625 \nQ 24.65625 48.390625 19.8125 42.84375 \nQ 14.984375 37.3125 14.984375 27.296875 \nQ 14.984375 17.28125 19.8125 11.734375 \nQ 24.65625 6.203125 33.40625 6.203125 \nQ 37.3125 6.203125 41.140625 7.25 \nQ 44.96875 8.296875 48.78125 10.40625 \nL 48.78125 2.09375 \nQ 45.015625 0.34375 40.984375 -0.53125 \nQ 36.96875 -1.421875 32.421875 -1.421875 \nQ 20.0625 -1.421875 12.78125 6.34375 \nQ 5.515625 14.109375 5.515625 27.296875 \nQ 5.515625 40.671875 12.859375 48.328125 \nQ 20.21875 56 33.015625 56 \nQ 37.15625 56 41.109375 55.140625 \nQ 45.0625 54.296875 48.78125 52.59375 \nz\n\" id=\"DejaVuSans-99\"/>\n      <path d=\"M 30.609375 48.390625 \nQ 23.390625 48.390625 19.1875 42.75 \nQ 14.984375 37.109375 14.984375 27.296875 \nQ 14.984375 17.484375 19.15625 11.84375 \nQ 23.34375 6.203125 30.609375 6.203125 \nQ 37.796875 6.203125 41.984375 11.859375 \nQ 46.1875 17.53125 46.1875 27.296875 \nQ 46.1875 37.015625 41.984375 42.703125 \nQ 37.796875 48.390625 30.609375 48.390625 \nz\nM 30.609375 56 \nQ 42.328125 56 49.015625 48.375 \nQ 55.71875 40.765625 55.71875 27.296875 \nQ 55.71875 13.875 49.015625 6.21875 \nQ 42.328125 -1.421875 30.609375 -1.421875 \nQ 18.84375 -1.421875 12.171875 6.21875 \nQ 5.515625 13.875 5.515625 27.296875 \nQ 5.515625 40.765625 12.171875 48.375 \nQ 18.84375 56 30.609375 56 \nz\n\" id=\"DejaVuSans-111\"/>\n      <path d=\"M 41.109375 46.296875 \nQ 39.59375 47.171875 37.8125 47.578125 \nQ 36.03125 48 33.890625 48 \nQ 26.265625 48 22.1875 43.046875 \nQ 18.109375 38.09375 18.109375 28.8125 \nL 18.109375 0 \nL 9.078125 0 \nL 9.078125 54.6875 \nL 18.109375 54.6875 \nL 18.109375 46.1875 \nQ 20.953125 51.171875 25.484375 53.578125 \nQ 30.03125 56 36.53125 56 \nQ 37.453125 56 38.578125 55.875 \nQ 39.703125 55.765625 41.0625 55.515625 \nz\n\" id=\"DejaVuSans-114\"/>\n      <path d=\"M 56.203125 29.59375 \nL 56.203125 25.203125 \nL 14.890625 25.203125 \nQ 15.484375 15.921875 20.484375 11.0625 \nQ 25.484375 6.203125 34.421875 6.203125 \nQ 39.59375 6.203125 44.453125 7.46875 \nQ 49.3125 8.734375 54.109375 11.28125 \nL 54.109375 2.78125 \nQ 49.265625 0.734375 44.1875 -0.34375 \nQ 39.109375 -1.421875 33.890625 -1.421875 \nQ 20.796875 -1.421875 13.15625 6.1875 \nQ 5.515625 13.8125 5.515625 26.8125 \nQ 5.515625 40.234375 12.765625 48.109375 \nQ 20.015625 56 32.328125 56 \nQ 43.359375 56 49.78125 48.890625 \nQ 56.203125 41.796875 56.203125 29.59375 \nz\nM 47.21875 32.234375 \nQ 47.125 39.59375 43.09375 43.984375 \nQ 39.0625 48.390625 32.421875 48.390625 \nQ 24.90625 48.390625 20.390625 44.140625 \nQ 15.875 39.890625 15.1875 32.171875 \nz\n\" id=\"DejaVuSans-101\"/>\n     </defs>\n     <g transform=\"translate(283.817969 268.034687)scale(0.1 -0.1)\">\n      <use xlink:href=\"#DejaVuSans-70\"/>\n      <use x=\"57.519531\" xlink:href=\"#DejaVuSans-32\"/>\n      <use x=\"89.306641\" xlink:href=\"#DejaVuSans-115\"/>\n      <use x=\"141.40625\" xlink:href=\"#DejaVuSans-99\"/>\n      <use x=\"196.386719\" xlink:href=\"#DejaVuSans-111\"/>\n      <use x=\"257.568359\" xlink:href=\"#DejaVuSans-114\"/>\n      <use x=\"298.650391\" xlink:href=\"#DejaVuSans-101\"/>\n     </g>\n    </g>\n   </g>\n   <g id=\"matplotlib.axis_2\">\n    <g id=\"ytick_1\">\n     <g id=\"line2d_15\">\n      <path clip-path=\"url(#p0b0be6cd6d)\" d=\"M 134.426563 221.638125 \nL 469.226562 221.638125 \n\" style=\"fill:none;stroke:#b0b0b0;stroke-linecap:square;stroke-width:0.8;\"/>\n     </g>\n     <g id=\"line2d_16\">\n      <defs>\n       <path d=\"M 0 0 \nL -3.5 0 \n\" id=\"m3655724f3c\" style=\"stroke:#000000;stroke-width:0.8;\"/>\n      </defs>\n      <g>\n       <use style=\"stroke:#000000;stroke-width:0.8;\" x=\"134.426563\" xlink:href=\"#m3655724f3c\" y=\"221.638125\"/>\n      </g>\n     </g>\n     <g id=\"text_9\">\n      <!-- a_win_percent_last_5 -->\n      <defs>\n       <path d=\"M 34.28125 27.484375 \nQ 23.390625 27.484375 19.1875 25 \nQ 14.984375 22.515625 14.984375 16.5 \nQ 14.984375 11.71875 18.140625 8.90625 \nQ 21.296875 6.109375 26.703125 6.109375 \nQ 34.1875 6.109375 38.703125 11.40625 \nQ 43.21875 16.703125 43.21875 25.484375 \nL 43.21875 27.484375 \nz\nM 52.203125 31.203125 \nL 52.203125 0 \nL 43.21875 0 \nL 43.21875 8.296875 \nQ 40.140625 3.328125 35.546875 0.953125 \nQ 30.953125 -1.421875 24.3125 -1.421875 \nQ 15.921875 -1.421875 10.953125 3.296875 \nQ 6 8.015625 6 15.921875 \nQ 6 25.140625 12.171875 29.828125 \nQ 18.359375 34.515625 30.609375 34.515625 \nL 43.21875 34.515625 \nL 43.21875 35.40625 \nQ 43.21875 41.609375 39.140625 45 \nQ 35.0625 48.390625 27.6875 48.390625 \nQ 23 48.390625 18.546875 47.265625 \nQ 14.109375 46.140625 10.015625 43.890625 \nL 10.015625 52.203125 \nQ 14.9375 54.109375 19.578125 55.046875 \nQ 24.21875 56 28.609375 56 \nQ 40.484375 56 46.34375 49.84375 \nQ 52.203125 43.703125 52.203125 31.203125 \nz\n\" id=\"DejaVuSans-97\"/>\n       <path d=\"M 50.984375 -16.609375 \nL 50.984375 -23.578125 \nL -0.984375 -23.578125 \nL -0.984375 -16.609375 \nz\n\" id=\"DejaVuSans-95\"/>\n       <path d=\"M 4.203125 54.6875 \nL 13.1875 54.6875 \nL 24.421875 12.015625 \nL 35.59375 54.6875 \nL 46.1875 54.6875 \nL 57.421875 12.015625 \nL 68.609375 54.6875 \nL 77.59375 54.6875 \nL 63.28125 0 \nL 52.6875 0 \nL 40.921875 44.828125 \nL 29.109375 0 \nL 18.5 0 \nz\n\" id=\"DejaVuSans-119\"/>\n       <path d=\"M 9.421875 54.6875 \nL 18.40625 54.6875 \nL 18.40625 0 \nL 9.421875 0 \nz\nM 9.421875 75.984375 \nL 18.40625 75.984375 \nL 18.40625 64.59375 \nL 9.421875 64.59375 \nz\n\" id=\"DejaVuSans-105\"/>\n       <path d=\"M 54.890625 33.015625 \nL 54.890625 0 \nL 45.90625 0 \nL 45.90625 32.71875 \nQ 45.90625 40.484375 42.875 44.328125 \nQ 39.84375 48.1875 33.796875 48.1875 \nQ 26.515625 48.1875 22.3125 43.546875 \nQ 18.109375 38.921875 18.109375 30.90625 \nL 18.109375 0 \nL 9.078125 0 \nL 9.078125 54.6875 \nL 18.109375 54.6875 \nL 18.109375 46.1875 \nQ 21.34375 51.125 25.703125 53.5625 \nQ 30.078125 56 35.796875 56 \nQ 45.21875 56 50.046875 50.171875 \nQ 54.890625 44.34375 54.890625 33.015625 \nz\n\" id=\"DejaVuSans-110\"/>\n       <path d=\"M 18.109375 8.203125 \nL 18.109375 -20.796875 \nL 9.078125 -20.796875 \nL 9.078125 54.6875 \nL 18.109375 54.6875 \nL 18.109375 46.390625 \nQ 20.953125 51.265625 25.265625 53.625 \nQ 29.59375 56 35.59375 56 \nQ 45.5625 56 51.78125 48.09375 \nQ 58.015625 40.1875 58.015625 27.296875 \nQ 58.015625 14.40625 51.78125 6.484375 \nQ 45.5625 -1.421875 35.59375 -1.421875 \nQ 29.59375 -1.421875 25.265625 0.953125 \nQ 20.953125 3.328125 18.109375 8.203125 \nz\nM 48.6875 27.296875 \nQ 48.6875 37.203125 44.609375 42.84375 \nQ 40.53125 48.484375 33.40625 48.484375 \nQ 26.265625 48.484375 22.1875 42.84375 \nQ 18.109375 37.203125 18.109375 27.296875 \nQ 18.109375 17.390625 22.1875 11.75 \nQ 26.265625 6.109375 33.40625 6.109375 \nQ 40.53125 6.109375 44.609375 11.75 \nQ 48.6875 17.390625 48.6875 27.296875 \nz\n\" id=\"DejaVuSans-112\"/>\n       <path d=\"M 18.3125 70.21875 \nL 18.3125 54.6875 \nL 36.8125 54.6875 \nL 36.8125 47.703125 \nL 18.3125 47.703125 \nL 18.3125 18.015625 \nQ 18.3125 11.328125 20.140625 9.421875 \nQ 21.96875 7.515625 27.59375 7.515625 \nL 36.8125 7.515625 \nL 36.8125 0 \nL 27.59375 0 \nQ 17.1875 0 13.234375 3.875 \nQ 9.28125 7.765625 9.28125 18.015625 \nL 9.28125 47.703125 \nL 2.6875 47.703125 \nL 2.6875 54.6875 \nL 9.28125 54.6875 \nL 9.28125 70.21875 \nz\n\" id=\"DejaVuSans-116\"/>\n       <path d=\"M 9.421875 75.984375 \nL 18.40625 75.984375 \nL 18.40625 0 \nL 9.421875 0 \nz\n\" id=\"DejaVuSans-108\"/>\n      </defs>\n      <g transform=\"translate(21.0875 225.437344)scale(0.1 -0.1)\">\n       <use xlink:href=\"#DejaVuSans-97\"/>\n       <use x=\"61.279297\" xlink:href=\"#DejaVuSans-95\"/>\n       <use x=\"111.279297\" xlink:href=\"#DejaVuSans-119\"/>\n       <use x=\"193.066406\" xlink:href=\"#DejaVuSans-105\"/>\n       <use x=\"220.849609\" xlink:href=\"#DejaVuSans-110\"/>\n       <use x=\"284.228516\" xlink:href=\"#DejaVuSans-95\"/>\n       <use x=\"334.228516\" xlink:href=\"#DejaVuSans-112\"/>\n       <use x=\"397.705078\" xlink:href=\"#DejaVuSans-101\"/>\n       <use x=\"459.228516\" xlink:href=\"#DejaVuSans-114\"/>\n       <use x=\"500.310547\" xlink:href=\"#DejaVuSans-99\"/>\n       <use x=\"555.291016\" xlink:href=\"#DejaVuSans-101\"/>\n       <use x=\"616.814453\" xlink:href=\"#DejaVuSans-110\"/>\n       <use x=\"680.193359\" xlink:href=\"#DejaVuSans-116\"/>\n       <use x=\"719.402344\" xlink:href=\"#DejaVuSans-95\"/>\n       <use x=\"769.402344\" xlink:href=\"#DejaVuSans-108\"/>\n       <use x=\"797.185547\" xlink:href=\"#DejaVuSans-97\"/>\n       <use x=\"858.464844\" xlink:href=\"#DejaVuSans-115\"/>\n       <use x=\"910.564453\" xlink:href=\"#DejaVuSans-116\"/>\n       <use x=\"949.773438\" xlink:href=\"#DejaVuSans-95\"/>\n       <use x=\"999.773438\" xlink:href=\"#DejaVuSans-53\"/>\n      </g>\n     </g>\n    </g>\n    <g id=\"ytick_2\">\n     <g id=\"line2d_17\">\n      <path clip-path=\"url(#p0b0be6cd6d)\" d=\"M 134.426563 203.518125 \nL 469.226562 203.518125 \n\" style=\"fill:none;stroke:#b0b0b0;stroke-linecap:square;stroke-width:0.8;\"/>\n     </g>\n     <g id=\"line2d_18\">\n      <g>\n       <use style=\"stroke:#000000;stroke-width:0.8;\" x=\"134.426563\" xlink:href=\"#m3655724f3c\" y=\"203.518125\"/>\n      </g>\n     </g>\n     <g id=\"text_10\">\n      <!-- h_win_percent_last_5 -->\n      <defs>\n       <path d=\"M 54.890625 33.015625 \nL 54.890625 0 \nL 45.90625 0 \nL 45.90625 32.71875 \nQ 45.90625 40.484375 42.875 44.328125 \nQ 39.84375 48.1875 33.796875 48.1875 \nQ 26.515625 48.1875 22.3125 43.546875 \nQ 18.109375 38.921875 18.109375 30.90625 \nL 18.109375 0 \nL 9.078125 0 \nL 9.078125 75.984375 \nL 18.109375 75.984375 \nL 18.109375 46.1875 \nQ 21.34375 51.125 25.703125 53.5625 \nQ 30.078125 56 35.796875 56 \nQ 45.21875 56 50.046875 50.171875 \nQ 54.890625 44.34375 54.890625 33.015625 \nz\n\" id=\"DejaVuSans-104\"/>\n      </defs>\n      <g transform=\"translate(20.878125 207.317344)scale(0.1 -0.1)\">\n       <use xlink:href=\"#DejaVuSans-104\"/>\n       <use x=\"63.378906\" xlink:href=\"#DejaVuSans-95\"/>\n       <use x=\"113.378906\" xlink:href=\"#DejaVuSans-119\"/>\n       <use x=\"195.166016\" xlink:href=\"#DejaVuSans-105\"/>\n       <use x=\"222.949219\" xlink:href=\"#DejaVuSans-110\"/>\n       <use x=\"286.328125\" xlink:href=\"#DejaVuSans-95\"/>\n       <use x=\"336.328125\" xlink:href=\"#DejaVuSans-112\"/>\n       <use x=\"399.804688\" xlink:href=\"#DejaVuSans-101\"/>\n       <use x=\"461.328125\" xlink:href=\"#DejaVuSans-114\"/>\n       <use x=\"502.410156\" xlink:href=\"#DejaVuSans-99\"/>\n       <use x=\"557.390625\" xlink:href=\"#DejaVuSans-101\"/>\n       <use x=\"618.914062\" xlink:href=\"#DejaVuSans-110\"/>\n       <use x=\"682.292969\" xlink:href=\"#DejaVuSans-116\"/>\n       <use x=\"721.501953\" xlink:href=\"#DejaVuSans-95\"/>\n       <use x=\"771.501953\" xlink:href=\"#DejaVuSans-108\"/>\n       <use x=\"799.285156\" xlink:href=\"#DejaVuSans-97\"/>\n       <use x=\"860.564453\" xlink:href=\"#DejaVuSans-115\"/>\n       <use x=\"912.664062\" xlink:href=\"#DejaVuSans-116\"/>\n       <use x=\"951.873047\" xlink:href=\"#DejaVuSans-95\"/>\n       <use x=\"1001.873047\" xlink:href=\"#DejaVuSans-53\"/>\n      </g>\n     </g>\n    </g>\n    <g id=\"ytick_3\">\n     <g id=\"line2d_19\">\n      <path clip-path=\"url(#p0b0be6cd6d)\" d=\"M 134.426563 185.398125 \nL 469.226562 185.398125 \n\" style=\"fill:none;stroke:#b0b0b0;stroke-linecap:square;stroke-width:0.8;\"/>\n     </g>\n     <g id=\"line2d_20\">\n      <g>\n       <use style=\"stroke:#000000;stroke-width:0.8;\" x=\"134.426563\" xlink:href=\"#m3655724f3c\" y=\"185.398125\"/>\n      </g>\n     </g>\n     <g id=\"text_11\">\n      <!-- a_match_played -->\n      <defs>\n       <path d=\"M 52 44.1875 \nQ 55.375 50.25 60.0625 53.125 \nQ 64.75 56 71.09375 56 \nQ 79.640625 56 84.28125 50.015625 \nQ 88.921875 44.046875 88.921875 33.015625 \nL 88.921875 0 \nL 79.890625 0 \nL 79.890625 32.71875 \nQ 79.890625 40.578125 77.09375 44.375 \nQ 74.3125 48.1875 68.609375 48.1875 \nQ 61.625 48.1875 57.5625 43.546875 \nQ 53.515625 38.921875 53.515625 30.90625 \nL 53.515625 0 \nL 44.484375 0 \nL 44.484375 32.71875 \nQ 44.484375 40.625 41.703125 44.40625 \nQ 38.921875 48.1875 33.109375 48.1875 \nQ 26.21875 48.1875 22.15625 43.53125 \nQ 18.109375 38.875 18.109375 30.90625 \nL 18.109375 0 \nL 9.078125 0 \nL 9.078125 54.6875 \nL 18.109375 54.6875 \nL 18.109375 46.1875 \nQ 21.1875 51.21875 25.484375 53.609375 \nQ 29.78125 56 35.6875 56 \nQ 41.65625 56 45.828125 52.96875 \nQ 50 49.953125 52 44.1875 \nz\n\" id=\"DejaVuSans-109\"/>\n       <path d=\"M 32.171875 -5.078125 \nQ 28.375 -14.84375 24.75 -17.8125 \nQ 21.140625 -20.796875 15.09375 -20.796875 \nL 7.90625 -20.796875 \nL 7.90625 -13.28125 \nL 13.1875 -13.28125 \nQ 16.890625 -13.28125 18.9375 -11.515625 \nQ 21 -9.765625 23.484375 -3.21875 \nL 25.09375 0.875 \nL 2.984375 54.6875 \nL 12.5 54.6875 \nL 29.59375 11.921875 \nL 46.6875 54.6875 \nL 56.203125 54.6875 \nz\n\" id=\"DejaVuSans-121\"/>\n       <path d=\"M 45.40625 46.390625 \nL 45.40625 75.984375 \nL 54.390625 75.984375 \nL 54.390625 0 \nL 45.40625 0 \nL 45.40625 8.203125 \nQ 42.578125 3.328125 38.25 0.953125 \nQ 33.9375 -1.421875 27.875 -1.421875 \nQ 17.96875 -1.421875 11.734375 6.484375 \nQ 5.515625 14.40625 5.515625 27.296875 \nQ 5.515625 40.1875 11.734375 48.09375 \nQ 17.96875 56 27.875 56 \nQ 33.9375 56 38.25 53.625 \nQ 42.578125 51.265625 45.40625 46.390625 \nz\nM 14.796875 27.296875 \nQ 14.796875 17.390625 18.875 11.75 \nQ 22.953125 6.109375 30.078125 6.109375 \nQ 37.203125 6.109375 41.296875 11.75 \nQ 45.40625 17.390625 45.40625 27.296875 \nQ 45.40625 37.203125 41.296875 42.84375 \nQ 37.203125 48.484375 30.078125 48.484375 \nQ 22.953125 48.484375 18.875 42.84375 \nQ 14.796875 37.203125 14.796875 27.296875 \nz\n\" id=\"DejaVuSans-100\"/>\n      </defs>\n      <g transform=\"translate(45.998438 189.197344)scale(0.1 -0.1)\">\n       <use xlink:href=\"#DejaVuSans-97\"/>\n       <use x=\"61.279297\" xlink:href=\"#DejaVuSans-95\"/>\n       <use x=\"111.279297\" xlink:href=\"#DejaVuSans-109\"/>\n       <use x=\"208.691406\" xlink:href=\"#DejaVuSans-97\"/>\n       <use x=\"269.970703\" xlink:href=\"#DejaVuSans-116\"/>\n       <use x=\"309.179688\" xlink:href=\"#DejaVuSans-99\"/>\n       <use x=\"364.160156\" xlink:href=\"#DejaVuSans-104\"/>\n       <use x=\"427.539062\" xlink:href=\"#DejaVuSans-95\"/>\n       <use x=\"477.539062\" xlink:href=\"#DejaVuSans-112\"/>\n       <use x=\"541.015625\" xlink:href=\"#DejaVuSans-108\"/>\n       <use x=\"568.798828\" xlink:href=\"#DejaVuSans-97\"/>\n       <use x=\"630.078125\" xlink:href=\"#DejaVuSans-121\"/>\n       <use x=\"689.257812\" xlink:href=\"#DejaVuSans-101\"/>\n       <use x=\"750.78125\" xlink:href=\"#DejaVuSans-100\"/>\n      </g>\n     </g>\n    </g>\n    <g id=\"ytick_4\">\n     <g id=\"line2d_21\">\n      <path clip-path=\"url(#p0b0be6cd6d)\" d=\"M 134.426563 167.278125 \nL 469.226562 167.278125 \n\" style=\"fill:none;stroke:#b0b0b0;stroke-linecap:square;stroke-width:0.8;\"/>\n     </g>\n     <g id=\"line2d_22\">\n      <g>\n       <use style=\"stroke:#000000;stroke-width:0.8;\" x=\"134.426563\" xlink:href=\"#m3655724f3c\" y=\"167.278125\"/>\n      </g>\n     </g>\n     <g id=\"text_12\">\n      <!-- h_match_played -->\n      <g transform=\"translate(45.789063 171.077344)scale(0.1 -0.1)\">\n       <use xlink:href=\"#DejaVuSans-104\"/>\n       <use x=\"63.378906\" xlink:href=\"#DejaVuSans-95\"/>\n       <use x=\"113.378906\" xlink:href=\"#DejaVuSans-109\"/>\n       <use x=\"210.791016\" xlink:href=\"#DejaVuSans-97\"/>\n       <use x=\"272.070312\" xlink:href=\"#DejaVuSans-116\"/>\n       <use x=\"311.279297\" xlink:href=\"#DejaVuSans-99\"/>\n       <use x=\"366.259766\" xlink:href=\"#DejaVuSans-104\"/>\n       <use x=\"429.638672\" xlink:href=\"#DejaVuSans-95\"/>\n       <use x=\"479.638672\" xlink:href=\"#DejaVuSans-112\"/>\n       <use x=\"543.115234\" xlink:href=\"#DejaVuSans-108\"/>\n       <use x=\"570.898438\" xlink:href=\"#DejaVuSans-97\"/>\n       <use x=\"632.177734\" xlink:href=\"#DejaVuSans-121\"/>\n       <use x=\"691.357422\" xlink:href=\"#DejaVuSans-101\"/>\n       <use x=\"752.880859\" xlink:href=\"#DejaVuSans-100\"/>\n      </g>\n     </g>\n    </g>\n    <g id=\"ytick_5\">\n     <g id=\"line2d_23\">\n      <path clip-path=\"url(#p0b0be6cd6d)\" d=\"M 134.426563 149.158125 \nL 469.226562 149.158125 \n\" style=\"fill:none;stroke:#b0b0b0;stroke-linecap:square;stroke-width:0.8;\"/>\n     </g>\n     <g id=\"line2d_24\">\n      <g>\n       <use style=\"stroke:#000000;stroke-width:0.8;\" x=\"134.426563\" xlink:href=\"#m3655724f3c\" y=\"149.158125\"/>\n      </g>\n     </g>\n     <g id=\"text_13\">\n      <!-- a_goal_diff -->\n      <defs>\n       <path d=\"M 45.40625 27.984375 \nQ 45.40625 37.75 41.375 43.109375 \nQ 37.359375 48.484375 30.078125 48.484375 \nQ 22.859375 48.484375 18.828125 43.109375 \nQ 14.796875 37.75 14.796875 27.984375 \nQ 14.796875 18.265625 18.828125 12.890625 \nQ 22.859375 7.515625 30.078125 7.515625 \nQ 37.359375 7.515625 41.375 12.890625 \nQ 45.40625 18.265625 45.40625 27.984375 \nz\nM 54.390625 6.78125 \nQ 54.390625 -7.171875 48.1875 -13.984375 \nQ 42 -20.796875 29.203125 -20.796875 \nQ 24.46875 -20.796875 20.265625 -20.09375 \nQ 16.0625 -19.390625 12.109375 -17.921875 \nL 12.109375 -9.1875 \nQ 16.0625 -11.328125 19.921875 -12.34375 \nQ 23.78125 -13.375 27.78125 -13.375 \nQ 36.625 -13.375 41.015625 -8.765625 \nQ 45.40625 -4.15625 45.40625 5.171875 \nL 45.40625 9.625 \nQ 42.625 4.78125 38.28125 2.390625 \nQ 33.9375 0 27.875 0 \nQ 17.828125 0 11.671875 7.65625 \nQ 5.515625 15.328125 5.515625 27.984375 \nQ 5.515625 40.671875 11.671875 48.328125 \nQ 17.828125 56 27.875 56 \nQ 33.9375 56 38.28125 53.609375 \nQ 42.625 51.21875 45.40625 46.390625 \nL 45.40625 54.6875 \nL 54.390625 54.6875 \nz\n\" id=\"DejaVuSans-103\"/>\n       <path d=\"M 37.109375 75.984375 \nL 37.109375 68.5 \nL 28.515625 68.5 \nQ 23.6875 68.5 21.796875 66.546875 \nQ 19.921875 64.59375 19.921875 59.515625 \nL 19.921875 54.6875 \nL 34.71875 54.6875 \nL 34.71875 47.703125 \nL 19.921875 47.703125 \nL 19.921875 0 \nL 10.890625 0 \nL 10.890625 47.703125 \nL 2.296875 47.703125 \nL 2.296875 54.6875 \nL 10.890625 54.6875 \nL 10.890625 58.5 \nQ 10.890625 67.625 15.140625 71.796875 \nQ 19.390625 75.984375 28.609375 75.984375 \nz\n\" id=\"DejaVuSans-102\"/>\n      </defs>\n      <g transform=\"translate(73.757813 152.957344)scale(0.1 -0.1)\">\n       <use xlink:href=\"#DejaVuSans-97\"/>\n       <use x=\"61.279297\" xlink:href=\"#DejaVuSans-95\"/>\n       <use x=\"111.279297\" xlink:href=\"#DejaVuSans-103\"/>\n       <use x=\"174.755859\" xlink:href=\"#DejaVuSans-111\"/>\n       <use x=\"235.9375\" xlink:href=\"#DejaVuSans-97\"/>\n       <use x=\"297.216797\" xlink:href=\"#DejaVuSans-108\"/>\n       <use x=\"325\" xlink:href=\"#DejaVuSans-95\"/>\n       <use x=\"375\" xlink:href=\"#DejaVuSans-100\"/>\n       <use x=\"438.476562\" xlink:href=\"#DejaVuSans-105\"/>\n       <use x=\"466.259766\" xlink:href=\"#DejaVuSans-102\"/>\n       <use x=\"501.464844\" xlink:href=\"#DejaVuSans-102\"/>\n      </g>\n     </g>\n    </g>\n    <g id=\"ytick_6\">\n     <g id=\"line2d_25\">\n      <path clip-path=\"url(#p0b0be6cd6d)\" d=\"M 134.426563 131.038125 \nL 469.226562 131.038125 \n\" style=\"fill:none;stroke:#b0b0b0;stroke-linecap:square;stroke-width:0.8;\"/>\n     </g>\n     <g id=\"line2d_26\">\n      <g>\n       <use style=\"stroke:#000000;stroke-width:0.8;\" x=\"134.426563\" xlink:href=\"#m3655724f3c\" y=\"131.038125\"/>\n      </g>\n     </g>\n     <g id=\"text_14\">\n      <!-- h_goal_diff -->\n      <g transform=\"translate(73.548438 134.837344)scale(0.1 -0.1)\">\n       <use xlink:href=\"#DejaVuSans-104\"/>\n       <use x=\"63.378906\" xlink:href=\"#DejaVuSans-95\"/>\n       <use x=\"113.378906\" xlink:href=\"#DejaVuSans-103\"/>\n       <use x=\"176.855469\" xlink:href=\"#DejaVuSans-111\"/>\n       <use x=\"238.037109\" xlink:href=\"#DejaVuSans-97\"/>\n       <use x=\"299.316406\" xlink:href=\"#DejaVuSans-108\"/>\n       <use x=\"327.099609\" xlink:href=\"#DejaVuSans-95\"/>\n       <use x=\"377.099609\" xlink:href=\"#DejaVuSans-100\"/>\n       <use x=\"440.576172\" xlink:href=\"#DejaVuSans-105\"/>\n       <use x=\"468.359375\" xlink:href=\"#DejaVuSans-102\"/>\n       <use x=\"503.564453\" xlink:href=\"#DejaVuSans-102\"/>\n      </g>\n     </g>\n    </g>\n    <g id=\"ytick_7\">\n     <g id=\"line2d_27\">\n      <path clip-path=\"url(#p0b0be6cd6d)\" d=\"M 134.426563 112.918125 \nL 469.226562 112.918125 \n\" style=\"fill:none;stroke:#b0b0b0;stroke-linecap:square;stroke-width:0.8;\"/>\n     </g>\n     <g id=\"line2d_28\">\n      <g>\n       <use style=\"stroke:#000000;stroke-width:0.8;\" x=\"134.426563\" xlink:href=\"#m3655724f3c\" y=\"112.918125\"/>\n      </g>\n     </g>\n     <g id=\"text_15\">\n      <!-- goal_diff_diff -->\n      <g transform=\"translate(63.71875 116.717344)scale(0.1 -0.1)\">\n       <use xlink:href=\"#DejaVuSans-103\"/>\n       <use x=\"63.476562\" xlink:href=\"#DejaVuSans-111\"/>\n       <use x=\"124.658203\" xlink:href=\"#DejaVuSans-97\"/>\n       <use x=\"185.9375\" xlink:href=\"#DejaVuSans-108\"/>\n       <use x=\"213.720703\" xlink:href=\"#DejaVuSans-95\"/>\n       <use x=\"263.720703\" xlink:href=\"#DejaVuSans-100\"/>\n       <use x=\"327.197266\" xlink:href=\"#DejaVuSans-105\"/>\n       <use x=\"354.980469\" xlink:href=\"#DejaVuSans-102\"/>\n       <use x=\"390.185547\" xlink:href=\"#DejaVuSans-102\"/>\n       <use x=\"425.390625\" xlink:href=\"#DejaVuSans-95\"/>\n       <use x=\"475.390625\" xlink:href=\"#DejaVuSans-100\"/>\n       <use x=\"538.867188\" xlink:href=\"#DejaVuSans-105\"/>\n       <use x=\"566.650391\" xlink:href=\"#DejaVuSans-102\"/>\n       <use x=\"601.855469\" xlink:href=\"#DejaVuSans-102\"/>\n      </g>\n     </g>\n    </g>\n    <g id=\"ytick_8\">\n     <g id=\"line2d_29\">\n      <path clip-path=\"url(#p0b0be6cd6d)\" d=\"M 134.426563 94.798125 \nL 469.226562 94.798125 \n\" style=\"fill:none;stroke:#b0b0b0;stroke-linecap:square;stroke-width:0.8;\"/>\n     </g>\n     <g id=\"line2d_30\">\n      <g>\n       <use style=\"stroke:#000000;stroke-width:0.8;\" x=\"134.426563\" xlink:href=\"#m3655724f3c\" y=\"94.798125\"/>\n      </g>\n     </g>\n     <g id=\"text_16\">\n      <!-- a_win_percent -->\n      <g transform=\"translate(55.485938 98.597344)scale(0.1 -0.1)\">\n       <use xlink:href=\"#DejaVuSans-97\"/>\n       <use x=\"61.279297\" xlink:href=\"#DejaVuSans-95\"/>\n       <use x=\"111.279297\" xlink:href=\"#DejaVuSans-119\"/>\n       <use x=\"193.066406\" xlink:href=\"#DejaVuSans-105\"/>\n       <use x=\"220.849609\" xlink:href=\"#DejaVuSans-110\"/>\n       <use x=\"284.228516\" xlink:href=\"#DejaVuSans-95\"/>\n       <use x=\"334.228516\" xlink:href=\"#DejaVuSans-112\"/>\n       <use x=\"397.705078\" xlink:href=\"#DejaVuSans-101\"/>\n       <use x=\"459.228516\" xlink:href=\"#DejaVuSans-114\"/>\n       <use x=\"500.310547\" xlink:href=\"#DejaVuSans-99\"/>\n       <use x=\"555.291016\" xlink:href=\"#DejaVuSans-101\"/>\n       <use x=\"616.814453\" xlink:href=\"#DejaVuSans-110\"/>\n       <use x=\"680.193359\" xlink:href=\"#DejaVuSans-116\"/>\n      </g>\n     </g>\n    </g>\n    <g id=\"ytick_9\">\n     <g id=\"line2d_31\">\n      <path clip-path=\"url(#p0b0be6cd6d)\" d=\"M 134.426563 76.678125 \nL 469.226562 76.678125 \n\" style=\"fill:none;stroke:#b0b0b0;stroke-linecap:square;stroke-width:0.8;\"/>\n     </g>\n     <g id=\"line2d_32\">\n      <g>\n       <use style=\"stroke:#000000;stroke-width:0.8;\" x=\"134.426563\" xlink:href=\"#m3655724f3c\" y=\"76.678125\"/>\n      </g>\n     </g>\n     <g id=\"text_17\">\n      <!-- h_win_percent -->\n      <g transform=\"translate(55.276563 80.477344)scale(0.1 -0.1)\">\n       <use xlink:href=\"#DejaVuSans-104\"/>\n       <use x=\"63.378906\" xlink:href=\"#DejaVuSans-95\"/>\n       <use x=\"113.378906\" xlink:href=\"#DejaVuSans-119\"/>\n       <use x=\"195.166016\" xlink:href=\"#DejaVuSans-105\"/>\n       <use x=\"222.949219\" xlink:href=\"#DejaVuSans-110\"/>\n       <use x=\"286.328125\" xlink:href=\"#DejaVuSans-95\"/>\n       <use x=\"336.328125\" xlink:href=\"#DejaVuSans-112\"/>\n       <use x=\"399.804688\" xlink:href=\"#DejaVuSans-101\"/>\n       <use x=\"461.328125\" xlink:href=\"#DejaVuSans-114\"/>\n       <use x=\"502.410156\" xlink:href=\"#DejaVuSans-99\"/>\n       <use x=\"557.390625\" xlink:href=\"#DejaVuSans-101\"/>\n       <use x=\"618.914062\" xlink:href=\"#DejaVuSans-110\"/>\n       <use x=\"682.292969\" xlink:href=\"#DejaVuSans-116\"/>\n      </g>\n     </g>\n    </g>\n    <g id=\"ytick_10\">\n     <g id=\"line2d_33\">\n      <path clip-path=\"url(#p0b0be6cd6d)\" d=\"M 134.426563 58.558125 \nL 469.226562 58.558125 \n\" style=\"fill:none;stroke:#b0b0b0;stroke-linecap:square;stroke-width:0.8;\"/>\n     </g>\n     <g id=\"line2d_34\">\n      <g>\n       <use style=\"stroke:#000000;stroke-width:0.8;\" x=\"134.426563\" xlink:href=\"#m3655724f3c\" y=\"58.558125\"/>\n      </g>\n     </g>\n     <g id=\"text_18\">\n      <!-- a_elo_before -->\n      <defs>\n       <path d=\"M 48.6875 27.296875 \nQ 48.6875 37.203125 44.609375 42.84375 \nQ 40.53125 48.484375 33.40625 48.484375 \nQ 26.265625 48.484375 22.1875 42.84375 \nQ 18.109375 37.203125 18.109375 27.296875 \nQ 18.109375 17.390625 22.1875 11.75 \nQ 26.265625 6.109375 33.40625 6.109375 \nQ 40.53125 6.109375 44.609375 11.75 \nQ 48.6875 17.390625 48.6875 27.296875 \nz\nM 18.109375 46.390625 \nQ 20.953125 51.265625 25.265625 53.625 \nQ 29.59375 56 35.59375 56 \nQ 45.5625 56 51.78125 48.09375 \nQ 58.015625 40.1875 58.015625 27.296875 \nQ 58.015625 14.40625 51.78125 6.484375 \nQ 45.5625 -1.421875 35.59375 -1.421875 \nQ 29.59375 -1.421875 25.265625 0.953125 \nQ 20.953125 3.328125 18.109375 8.203125 \nL 18.109375 0 \nL 9.078125 0 \nL 9.078125 75.984375 \nL 18.109375 75.984375 \nz\n\" id=\"DejaVuSans-98\"/>\n      </defs>\n      <g transform=\"translate(63.846875 62.357344)scale(0.1 -0.1)\">\n       <use xlink:href=\"#DejaVuSans-97\"/>\n       <use x=\"61.279297\" xlink:href=\"#DejaVuSans-95\"/>\n       <use x=\"111.279297\" xlink:href=\"#DejaVuSans-101\"/>\n       <use x=\"172.802734\" xlink:href=\"#DejaVuSans-108\"/>\n       <use x=\"200.585938\" xlink:href=\"#DejaVuSans-111\"/>\n       <use x=\"261.767578\" xlink:href=\"#DejaVuSans-95\"/>\n       <use x=\"311.767578\" xlink:href=\"#DejaVuSans-98\"/>\n       <use x=\"375.244141\" xlink:href=\"#DejaVuSans-101\"/>\n       <use x=\"436.767578\" xlink:href=\"#DejaVuSans-102\"/>\n       <use x=\"471.972656\" xlink:href=\"#DejaVuSans-111\"/>\n       <use x=\"533.154297\" xlink:href=\"#DejaVuSans-114\"/>\n       <use x=\"574.236328\" xlink:href=\"#DejaVuSans-101\"/>\n      </g>\n     </g>\n    </g>\n    <g id=\"ytick_11\">\n     <g id=\"line2d_35\">\n      <path clip-path=\"url(#p0b0be6cd6d)\" d=\"M 134.426563 40.438125 \nL 469.226562 40.438125 \n\" style=\"fill:none;stroke:#b0b0b0;stroke-linecap:square;stroke-width:0.8;\"/>\n     </g>\n     <g id=\"line2d_36\">\n      <g>\n       <use style=\"stroke:#000000;stroke-width:0.8;\" x=\"134.426563\" xlink:href=\"#m3655724f3c\" y=\"40.438125\"/>\n      </g>\n     </g>\n     <g id=\"text_19\">\n      <!-- h_elo_before -->\n      <g transform=\"translate(63.6375 44.237344)scale(0.1 -0.1)\">\n       <use xlink:href=\"#DejaVuSans-104\"/>\n       <use x=\"63.378906\" xlink:href=\"#DejaVuSans-95\"/>\n       <use x=\"113.378906\" xlink:href=\"#DejaVuSans-101\"/>\n       <use x=\"174.902344\" xlink:href=\"#DejaVuSans-108\"/>\n       <use x=\"202.685547\" xlink:href=\"#DejaVuSans-111\"/>\n       <use x=\"263.867188\" xlink:href=\"#DejaVuSans-95\"/>\n       <use x=\"313.867188\" xlink:href=\"#DejaVuSans-98\"/>\n       <use x=\"377.34375\" xlink:href=\"#DejaVuSans-101\"/>\n       <use x=\"438.867188\" xlink:href=\"#DejaVuSans-102\"/>\n       <use x=\"474.072266\" xlink:href=\"#DejaVuSans-111\"/>\n       <use x=\"535.253906\" xlink:href=\"#DejaVuSans-114\"/>\n       <use x=\"576.335938\" xlink:href=\"#DejaVuSans-101\"/>\n      </g>\n     </g>\n    </g>\n    <g id=\"text_20\">\n     <!-- Features -->\n     <defs>\n      <path d=\"M 8.5 21.578125 \nL 8.5 54.6875 \nL 17.484375 54.6875 \nL 17.484375 21.921875 \nQ 17.484375 14.15625 20.5 10.265625 \nQ 23.53125 6.390625 29.59375 6.390625 \nQ 36.859375 6.390625 41.078125 11.03125 \nQ 45.3125 15.671875 45.3125 23.6875 \nL 45.3125 54.6875 \nL 54.296875 54.6875 \nL 54.296875 0 \nL 45.3125 0 \nL 45.3125 8.40625 \nQ 42.046875 3.421875 37.71875 1 \nQ 33.40625 -1.421875 27.6875 -1.421875 \nQ 18.265625 -1.421875 13.375 4.4375 \nQ 8.5 10.296875 8.5 21.578125 \nz\nM 31.109375 56 \nz\n\" id=\"DejaVuSans-117\"/>\n     </defs>\n     <g transform=\"translate(14.798438 152.914687)rotate(-90)scale(0.1 -0.1)\">\n      <use xlink:href=\"#DejaVuSans-70\"/>\n      <use x=\"57.441406\" xlink:href=\"#DejaVuSans-101\"/>\n      <use x=\"118.964844\" xlink:href=\"#DejaVuSans-97\"/>\n      <use x=\"180.244141\" xlink:href=\"#DejaVuSans-116\"/>\n      <use x=\"219.453125\" xlink:href=\"#DejaVuSans-117\"/>\n      <use x=\"282.832031\" xlink:href=\"#DejaVuSans-114\"/>\n      <use x=\"323.914062\" xlink:href=\"#DejaVuSans-101\"/>\n      <use x=\"385.4375\" xlink:href=\"#DejaVuSans-115\"/>\n     </g>\n    </g>\n   </g>\n   <g id=\"patch_14\">\n    <path d=\"M 134.426563 239.758125 \nL 134.426563 22.318125 \n\" style=\"fill:none;stroke:#000000;stroke-linecap:square;stroke-linejoin:miter;stroke-width:0.8;\"/>\n   </g>\n   <g id=\"patch_15\">\n    <path d=\"M 469.226562 239.758125 \nL 469.226562 22.318125 \n\" style=\"fill:none;stroke:#000000;stroke-linecap:square;stroke-linejoin:miter;stroke-width:0.8;\"/>\n   </g>\n   <g id=\"patch_16\">\n    <path d=\"M 134.426563 239.758125 \nL 469.226562 239.758125 \n\" style=\"fill:none;stroke:#000000;stroke-linecap:square;stroke-linejoin:miter;stroke-width:0.8;\"/>\n   </g>\n   <g id=\"patch_17\">\n    <path d=\"M 134.426563 22.318125 \nL 469.226562 22.318125 \n\" style=\"fill:none;stroke:#000000;stroke-linecap:square;stroke-linejoin:miter;stroke-width:0.8;\"/>\n   </g>\n   <g id=\"text_21\">\n    <!-- 985 -->\n    <defs>\n     <path d=\"M 10.984375 1.515625 \nL 10.984375 10.5 \nQ 14.703125 8.734375 18.5 7.8125 \nQ 22.3125 6.890625 25.984375 6.890625 \nQ 35.75 6.890625 40.890625 13.453125 \nQ 46.046875 20.015625 46.78125 33.40625 \nQ 43.953125 29.203125 39.59375 26.953125 \nQ 35.25 24.703125 29.984375 24.703125 \nQ 19.046875 24.703125 12.671875 31.3125 \nQ 6.296875 37.9375 6.296875 49.421875 \nQ 6.296875 60.640625 12.9375 67.421875 \nQ 19.578125 74.21875 30.609375 74.21875 \nQ 43.265625 74.21875 49.921875 64.515625 \nQ 56.59375 54.828125 56.59375 36.375 \nQ 56.59375 19.140625 48.40625 8.859375 \nQ 40.234375 -1.421875 26.421875 -1.421875 \nQ 22.703125 -1.421875 18.890625 -0.6875 \nQ 15.09375 0.046875 10.984375 1.515625 \nz\nM 30.609375 32.421875 \nQ 37.25 32.421875 41.125 36.953125 \nQ 45.015625 41.5 45.015625 49.421875 \nQ 45.015625 57.28125 41.125 61.84375 \nQ 37.25 66.40625 30.609375 66.40625 \nQ 23.96875 66.40625 20.09375 61.84375 \nQ 16.21875 57.28125 16.21875 49.421875 \nQ 16.21875 41.5 20.09375 36.953125 \nQ 23.96875 32.421875 30.609375 32.421875 \nz\n\" id=\"DejaVuSans-57\"/>\n     <path d=\"M 31.78125 34.625 \nQ 24.75 34.625 20.71875 30.859375 \nQ 16.703125 27.09375 16.703125 20.515625 \nQ 16.703125 13.921875 20.71875 10.15625 \nQ 24.75 6.390625 31.78125 6.390625 \nQ 38.8125 6.390625 42.859375 10.171875 \nQ 46.921875 13.96875 46.921875 20.515625 \nQ 46.921875 27.09375 42.890625 30.859375 \nQ 38.875 34.625 31.78125 34.625 \nz\nM 21.921875 38.8125 \nQ 15.578125 40.375 12.03125 44.71875 \nQ 8.5 49.078125 8.5 55.328125 \nQ 8.5 64.0625 14.71875 69.140625 \nQ 20.953125 74.21875 31.78125 74.21875 \nQ 42.671875 74.21875 48.875 69.140625 \nQ 55.078125 64.0625 55.078125 55.328125 \nQ 55.078125 49.078125 51.53125 44.71875 \nQ 48 40.375 41.703125 38.8125 \nQ 48.828125 37.15625 52.796875 32.3125 \nQ 56.78125 27.484375 56.78125 20.515625 \nQ 56.78125 9.90625 50.3125 4.234375 \nQ 43.84375 -1.421875 31.78125 -1.421875 \nQ 19.734375 -1.421875 13.25 4.234375 \nQ 6.78125 9.90625 6.78125 20.515625 \nQ 6.78125 27.484375 10.78125 32.3125 \nQ 14.796875 37.15625 21.921875 38.8125 \nz\nM 18.3125 54.390625 \nQ 18.3125 48.734375 21.84375 45.5625 \nQ 25.390625 42.390625 31.78125 42.390625 \nQ 38.140625 42.390625 41.71875 45.5625 \nQ 45.3125 48.734375 45.3125 54.390625 \nQ 45.3125 60.0625 41.71875 63.234375 \nQ 38.140625 66.40625 31.78125 66.40625 \nQ 25.390625 66.40625 21.84375 63.234375 \nQ 18.3125 60.0625 18.3125 54.390625 \nz\n\" id=\"DejaVuSans-56\"/>\n    </defs>\n    <g transform=\"translate(186.86454 224.3975)scale(0.1 -0.1)\">\n     <use xlink:href=\"#DejaVuSans-57\"/>\n     <use x=\"63.623047\" xlink:href=\"#DejaVuSans-56\"/>\n     <use x=\"127.246094\" xlink:href=\"#DejaVuSans-53\"/>\n    </g>\n   </g>\n   <g id=\"text_22\">\n    <!-- 1034 -->\n    <g transform=\"translate(189.470484 206.2775)scale(0.1 -0.1)\">\n     <use xlink:href=\"#DejaVuSans-49\"/>\n     <use x=\"63.623047\" xlink:href=\"#DejaVuSans-48\"/>\n     <use x=\"127.246094\" xlink:href=\"#DejaVuSans-51\"/>\n     <use x=\"190.869141\" xlink:href=\"#DejaVuSans-52\"/>\n    </g>\n   </g>\n   <g id=\"text_23\">\n    <!-- 2317 -->\n    <defs>\n     <path d=\"M 8.203125 72.90625 \nL 55.078125 72.90625 \nL 55.078125 68.703125 \nL 28.609375 0 \nL 18.3125 0 \nL 43.21875 64.59375 \nL 8.203125 64.59375 \nz\n\" id=\"DejaVuSans-55\"/>\n    </defs>\n    <g transform=\"translate(257.703674 188.1575)scale(0.1 -0.1)\">\n     <use xlink:href=\"#DejaVuSans-50\"/>\n     <use x=\"63.623047\" xlink:href=\"#DejaVuSans-51\"/>\n     <use x=\"127.246094\" xlink:href=\"#DejaVuSans-49\"/>\n     <use x=\"190.869141\" xlink:href=\"#DejaVuSans-55\"/>\n    </g>\n   </g>\n   <g id=\"text_24\">\n    <!-- 2651 -->\n    <g transform=\"translate(275.46664 170.0375)scale(0.1 -0.1)\">\n     <use xlink:href=\"#DejaVuSans-50\"/>\n     <use x=\"63.623047\" xlink:href=\"#DejaVuSans-54\"/>\n     <use x=\"127.246094\" xlink:href=\"#DejaVuSans-53\"/>\n     <use x=\"190.869141\" xlink:href=\"#DejaVuSans-49\"/>\n    </g>\n   </g>\n   <g id=\"text_25\">\n    <!-- 2700 -->\n    <g transform=\"translate(278.072584 151.9175)scale(0.1 -0.1)\">\n     <use xlink:href=\"#DejaVuSans-50\"/>\n     <use x=\"63.623047\" xlink:href=\"#DejaVuSans-55\"/>\n     <use x=\"127.246094\" xlink:href=\"#DejaVuSans-48\"/>\n     <use x=\"190.869141\" xlink:href=\"#DejaVuSans-48\"/>\n    </g>\n   </g>\n   <g id=\"text_26\">\n    <!-- 2707 -->\n    <g transform=\"translate(278.444862 133.7975)scale(0.1 -0.1)\">\n     <use xlink:href=\"#DejaVuSans-50\"/>\n     <use x=\"63.623047\" xlink:href=\"#DejaVuSans-55\"/>\n     <use x=\"127.246094\" xlink:href=\"#DejaVuSans-48\"/>\n     <use x=\"190.869141\" xlink:href=\"#DejaVuSans-55\"/>\n    </g>\n   </g>\n   <g id=\"text_27\">\n    <!-- 3320 -->\n    <g transform=\"translate(311.045755 115.6775)scale(0.1 -0.1)\">\n     <use xlink:href=\"#DejaVuSans-51\"/>\n     <use x=\"63.623047\" xlink:href=\"#DejaVuSans-51\"/>\n     <use x=\"127.246094\" xlink:href=\"#DejaVuSans-50\"/>\n     <use x=\"190.869141\" xlink:href=\"#DejaVuSans-48\"/>\n    </g>\n   </g>\n   <g id=\"text_28\">\n    <!-- 3515 -->\n    <g transform=\"translate(321.416349 97.5575)scale(0.1 -0.1)\">\n     <use xlink:href=\"#DejaVuSans-51\"/>\n     <use x=\"63.623047\" xlink:href=\"#DejaVuSans-53\"/>\n     <use x=\"127.246094\" xlink:href=\"#DejaVuSans-49\"/>\n     <use x=\"190.869141\" xlink:href=\"#DejaVuSans-53\"/>\n    </g>\n   </g>\n   <g id=\"text_29\">\n    <!-- 3840 -->\n    <g transform=\"translate(338.700672 79.4375)scale(0.1 -0.1)\">\n     <use xlink:href=\"#DejaVuSans-51\"/>\n     <use x=\"63.623047\" xlink:href=\"#DejaVuSans-56\"/>\n     <use x=\"127.246094\" xlink:href=\"#DejaVuSans-52\"/>\n     <use x=\"190.869141\" xlink:href=\"#DejaVuSans-48\"/>\n    </g>\n   </g>\n   <g id=\"text_30\">\n    <!-- 5247 -->\n    <g transform=\"translate(413.528496 61.3175)scale(0.1 -0.1)\">\n     <use xlink:href=\"#DejaVuSans-53\"/>\n     <use x=\"63.623047\" xlink:href=\"#DejaVuSans-50\"/>\n     <use x=\"127.246094\" xlink:href=\"#DejaVuSans-52\"/>\n     <use x=\"190.869141\" xlink:href=\"#DejaVuSans-55\"/>\n    </g>\n   </g>\n   <g id=\"text_31\">\n    <!-- 5723 -->\n    <g transform=\"translate(438.843381 43.1975)scale(0.1 -0.1)\">\n     <use xlink:href=\"#DejaVuSans-53\"/>\n     <use x=\"63.623047\" xlink:href=\"#DejaVuSans-55\"/>\n     <use x=\"127.246094\" xlink:href=\"#DejaVuSans-50\"/>\n     <use x=\"190.869141\" xlink:href=\"#DejaVuSans-51\"/>\n    </g>\n   </g>\n   <g id=\"text_32\">\n    <!-- Feature importance -->\n    <g transform=\"translate(242.512813 16.318125)scale(0.12 -0.12)\">\n     <use xlink:href=\"#DejaVuSans-70\"/>\n     <use x=\"57.441406\" xlink:href=\"#DejaVuSans-101\"/>\n     <use x=\"118.964844\" xlink:href=\"#DejaVuSans-97\"/>\n     <use x=\"180.244141\" xlink:href=\"#DejaVuSans-116\"/>\n     <use x=\"219.453125\" xlink:href=\"#DejaVuSans-117\"/>\n     <use x=\"282.832031\" xlink:href=\"#DejaVuSans-114\"/>\n     <use x=\"323.914062\" xlink:href=\"#DejaVuSans-101\"/>\n     <use x=\"385.4375\" xlink:href=\"#DejaVuSans-32\"/>\n     <use x=\"417.224609\" xlink:href=\"#DejaVuSans-105\"/>\n     <use x=\"445.007812\" xlink:href=\"#DejaVuSans-109\"/>\n     <use x=\"542.419922\" xlink:href=\"#DejaVuSans-112\"/>\n     <use x=\"605.896484\" xlink:href=\"#DejaVuSans-111\"/>\n     <use x=\"667.078125\" xlink:href=\"#DejaVuSans-114\"/>\n     <use x=\"708.191406\" xlink:href=\"#DejaVuSans-116\"/>\n     <use x=\"747.400391\" xlink:href=\"#DejaVuSans-97\"/>\n     <use x=\"808.679688\" xlink:href=\"#DejaVuSans-110\"/>\n     <use x=\"872.058594\" xlink:href=\"#DejaVuSans-99\"/>\n     <use x=\"927.039062\" xlink:href=\"#DejaVuSans-101\"/>\n    </g>\n   </g>\n  </g>\n </g>\n <defs>\n  <clipPath id=\"p0b0be6cd6d\">\n   <rect height=\"217.44\" width=\"334.8\" x=\"134.426563\" y=\"22.318125\"/>\n  </clipPath>\n </defs>\n</svg>\n",
      "image/png": "[encoded data removed]"
     },
     "metadata": {
      "needs_background": "light"
     }
    },
    {
     "output_type": "display_data",
     "data": {
      "text/plain": "<Figure size 1152x864 with 0 Axes>"
     },
     "metadata": {}
    }
   ],
   "source": [
    "xgb.plot_importance(model_xgboost.best_estimator_._Booster)\n",
    "plt.figure(figsize = (16, 12))\n",
    "plt.show()\n",
    "# model_xgboost.best_estimator_.feature_importance()"
   ]
  },
  {
   "cell_type": "code",
   "execution_count": 17,
   "metadata": {},
   "outputs": [],
   "source": [
    "xg_probs = model_xgboost.predict_proba(X_test)"
   ]
  },
  {
   "cell_type": "code",
   "execution_count": 18,
   "metadata": {},
   "outputs": [
    {
     "output_type": "execute_result",
     "data": {
      "text/plain": [
       "1.098470363288719"
      ]
     },
     "metadata": {},
     "execution_count": 18
    }
   ],
   "source": [
    "y_test_pred = model_xgboost.predict(X_test)\n",
    "mse = mean_squared_error(y_test_pred, y_test)\n",
    "mse"
   ]
  },
  {
   "cell_type": "code",
   "execution_count": 32,
   "metadata": {},
   "outputs": [],
   "source": [
    "pickle.dump(model_xgboost, open('../../alderaan/epl_pregame_prediction.pkl', 'wb'))"
   ]
  },
  {
   "source": [
    "SVC"
   ],
   "cell_type": "markdown",
   "metadata": {}
  },
  {
   "cell_type": "code",
   "execution_count": null,
   "metadata": {},
   "outputs": [],
   "source": [
    "svc_clf = SVC(probability=True)\n",
    "param_grid = {'C': [0.1, 1, 10, 100, 1000], \n",
    "              'gamma': [1, 0.1, 0.01, 0.001, 0.0001],\n",
    "              'kernel': ['rbf']} \n",
    "  \n",
    "svc_cv = GridSearchCV(svc_clf, param_grid, refit = True, verbose = 3)\n",
    "svc_cv.fit(X_train, y_train)\n",
    "\n",
    "print(svc_cv.best_params_)\n",
    "print(svc_cv.best_estimator_)"
   ]
  },
  {
   "cell_type": "code",
   "execution_count": null,
   "metadata": {},
   "outputs": [],
   "source": [
    "grid_predictions = svc_cv.predict(X_test)\n",
    "print(classification_report(y_test, grid_predictions))\n",
    "mse = mean_squared_error(grid_predictions, y_test)\n",
    "mse"
   ]
  },
  {
   "cell_type": "code",
   "execution_count": null,
   "metadata": {},
   "outputs": [],
   "source": [
    "svc_probs = svc_cv.predict_proba(X_test)"
   ]
  },
  {
   "source": [
    "In the end, the SVC model and XGB gave us comparable MSE's but the feature importance of the XG boost model was more reliable. (accounting for the fact that the KNN model simply chose the home team most times)."
   ],
   "cell_type": "markdown",
   "metadata": {}
  },
  {
   "cell_type": "code",
   "execution_count": null,
   "metadata": {},
   "outputs": [],
   "source": []
  },
  {
   "cell_type": "code",
   "execution_count": null,
   "metadata": {},
   "outputs": [],
   "source": []
  }
 ]
}